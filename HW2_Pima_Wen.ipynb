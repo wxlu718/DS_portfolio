{
 "cells": [
  {
   "cell_type": "markdown",
   "metadata": {},
   "source": [
    "# Homework 2: Supervised Learning\n",
    "\n",
    "\n",
    "# Dataset: [Pima Indians Diabetes Dataset](https://archive.ics.uci.edu/ml/datasets/Pima+Indians+Diabetes)\n",
    "\n",
    "\n",
    "# [Data Description:](https://archive.ics.uci.edu/ml/machine-learning-databases/pima-indians-diabetes/pima-indians-diabetes.names)\n",
    "\n",
    "\n",
    "# Due: 2/8 (beginning of class)\n",
    "\n",
    "\n",
    "# Format: ipython notebook submission on GitHub\n",
    "\n",
    "- send link to your repository to Mason and Lema\n",
    "\n",
    "\n",
    "## Instructions: answer the following questions with data and visuals\n",
    "\n",
    "- Describe the content of the dataset and its goals\n",
    "- Describe the features and formulate a hypothesis on which might be relevant in predicting diabetes\n",
    "- Describe the missing/NULL values. Decide if you should impute or drop them and justify your choice.\n",
    "- Come up with a benchmark for the minimum performance that an algorithm should have on this dataset\n",
    "- What's the best performance you can get with kNN? Is kNN a good choice for this dataset?\n",
    "- What's the best performance you can get with Naive Bayes? Is NB a good choice for this dataset?\n",
    "- What's the best performance you can get with Logistic Regression? Is LR a good choice for this dataset?\n",
    "- What's the best performance you can get with Random Forest? Is RF a good choice for this dataset?\n",
    "- If you could only choose one, which classifer from the above that you already ran is best? How do you define best? (hint: could be prediction accuracy, running time, interpretability, etc)\n",
    "\n",
    "\n",
    "## Note: you should know by now, but here is the order of importance:\n",
    "\n",
    "- Your analysis (there is no \"right\" answer, only good and bad defense of it)\n",
    "- Your visuals\n",
    "- Your coding implementation"
   ]
  },
  {
   "cell_type": "code",
   "execution_count": 258,
   "metadata": {
    "collapsed": true
   },
   "outputs": [],
   "source": [
    "import pandas as pd\n",
    "import numpy as np\n",
    "import matplotlib.pyplot as plt\n",
    "%matplotlib inline"
   ]
  },
  {
   "cell_type": "code",
   "execution_count": 259,
   "metadata": {
    "collapsed": false
   },
   "outputs": [],
   "source": [
    "#Load data\n",
    "\n",
    "raw_data = pd.read_csv('https://archive.ics.uci.edu/ml/machine-learning-databases/pima-indians-diabetes/pima-indians-diabetes.data',\\\n",
    "                    sep=',',header=None,\\\n",
    "                    names=['preg','glc_concen','blood_pres','skin','insulin','mass','pedigree','age','class'])\n"
   ]
  },
  {
   "cell_type": "code",
   "execution_count": 260,
   "metadata": {
    "collapsed": false
   },
   "outputs": [
    {
     "data": {
      "text/html": [
       "<div>\n",
       "<table border=\"1\" class=\"dataframe\">\n",
       "  <thead>\n",
       "    <tr style=\"text-align: right;\">\n",
       "      <th></th>\n",
       "      <th>preg</th>\n",
       "      <th>glc_concen</th>\n",
       "      <th>blood_pres</th>\n",
       "      <th>skin</th>\n",
       "      <th>insulin</th>\n",
       "      <th>mass</th>\n",
       "      <th>pedigree</th>\n",
       "      <th>age</th>\n",
       "      <th>class</th>\n",
       "    </tr>\n",
       "  </thead>\n",
       "  <tbody>\n",
       "    <tr>\n",
       "      <th>0</th>\n",
       "      <td>6</td>\n",
       "      <td>148</td>\n",
       "      <td>72</td>\n",
       "      <td>35</td>\n",
       "      <td>0</td>\n",
       "      <td>33.6</td>\n",
       "      <td>0.627</td>\n",
       "      <td>50</td>\n",
       "      <td>1</td>\n",
       "    </tr>\n",
       "    <tr>\n",
       "      <th>1</th>\n",
       "      <td>1</td>\n",
       "      <td>85</td>\n",
       "      <td>66</td>\n",
       "      <td>29</td>\n",
       "      <td>0</td>\n",
       "      <td>26.6</td>\n",
       "      <td>0.351</td>\n",
       "      <td>31</td>\n",
       "      <td>0</td>\n",
       "    </tr>\n",
       "    <tr>\n",
       "      <th>2</th>\n",
       "      <td>8</td>\n",
       "      <td>183</td>\n",
       "      <td>64</td>\n",
       "      <td>0</td>\n",
       "      <td>0</td>\n",
       "      <td>23.3</td>\n",
       "      <td>0.672</td>\n",
       "      <td>32</td>\n",
       "      <td>1</td>\n",
       "    </tr>\n",
       "    <tr>\n",
       "      <th>3</th>\n",
       "      <td>1</td>\n",
       "      <td>89</td>\n",
       "      <td>66</td>\n",
       "      <td>23</td>\n",
       "      <td>94</td>\n",
       "      <td>28.1</td>\n",
       "      <td>0.167</td>\n",
       "      <td>21</td>\n",
       "      <td>0</td>\n",
       "    </tr>\n",
       "    <tr>\n",
       "      <th>4</th>\n",
       "      <td>0</td>\n",
       "      <td>137</td>\n",
       "      <td>40</td>\n",
       "      <td>35</td>\n",
       "      <td>168</td>\n",
       "      <td>43.1</td>\n",
       "      <td>2.288</td>\n",
       "      <td>33</td>\n",
       "      <td>1</td>\n",
       "    </tr>\n",
       "  </tbody>\n",
       "</table>\n",
       "</div>"
      ],
      "text/plain": [
       "   preg  glc_concen  blood_pres  skin  insulin  mass  pedigree  age  class\n",
       "0     6         148          72    35        0  33.6     0.627   50      1\n",
       "1     1          85          66    29        0  26.6     0.351   31      0\n",
       "2     8         183          64     0        0  23.3     0.672   32      1\n",
       "3     1          89          66    23       94  28.1     0.167   21      0\n",
       "4     0         137          40    35      168  43.1     2.288   33      1"
      ]
     },
     "execution_count": 260,
     "metadata": {},
     "output_type": "execute_result"
    }
   ],
   "source": [
    "#Take a peak at the data structure\n",
    "\n",
    "raw_data.head()"
   ]
  },
  {
   "cell_type": "code",
   "execution_count": 261,
   "metadata": {
    "collapsed": false
   },
   "outputs": [
    {
     "data": {
      "text/plain": [
       "(768, 9)"
      ]
     },
     "execution_count": 261,
     "metadata": {},
     "output_type": "execute_result"
    }
   ],
   "source": [
    "raw_data.shape"
   ]
  },
  {
   "cell_type": "code",
   "execution_count": 262,
   "metadata": {
    "collapsed": false
   },
   "outputs": [
    {
     "name": "stdout",
     "output_type": "stream",
     "text": [
      "<class 'pandas.core.frame.DataFrame'>\n",
      "Int64Index: 768 entries, 0 to 767\n",
      "Data columns (total 9 columns):\n",
      "preg          768 non-null int64\n",
      "glc_concen    768 non-null int64\n",
      "blood_pres    768 non-null int64\n",
      "skin          768 non-null int64\n",
      "insulin       768 non-null int64\n",
      "mass          768 non-null float64\n",
      "pedigree      768 non-null float64\n",
      "age           768 non-null int64\n",
      "class         768 non-null int64\n",
      "dtypes: float64(2), int64(7)\n",
      "memory usage: 60.0 KB\n"
     ]
    }
   ],
   "source": [
    "raw_data.info()"
   ]
  },
  {
   "cell_type": "code",
   "execution_count": 263,
   "metadata": {
    "collapsed": false
   },
   "outputs": [
    {
     "data": {
      "text/plain": [
       "preg          False\n",
       "glc_concen    False\n",
       "blood_pres    False\n",
       "skin          False\n",
       "insulin       False\n",
       "mass          False\n",
       "pedigree      False\n",
       "age           False\n",
       "class         False\n",
       "dtype: bool"
      ]
     },
     "execution_count": 263,
     "metadata": {},
     "output_type": "execute_result"
    }
   ],
   "source": [
    "raw_data.isnull().any()"
   ]
  },
  {
   "cell_type": "code",
   "execution_count": 264,
   "metadata": {
    "collapsed": false
   },
   "outputs": [
    {
     "data": {
      "text/html": [
       "<div>\n",
       "<table border=\"1\" class=\"dataframe\">\n",
       "  <thead>\n",
       "    <tr style=\"text-align: right;\">\n",
       "      <th></th>\n",
       "      <th>preg</th>\n",
       "      <th>glc_concen</th>\n",
       "      <th>blood_pres</th>\n",
       "      <th>skin</th>\n",
       "      <th>insulin</th>\n",
       "      <th>mass</th>\n",
       "      <th>pedigree</th>\n",
       "      <th>age</th>\n",
       "      <th>class</th>\n",
       "    </tr>\n",
       "  </thead>\n",
       "  <tbody>\n",
       "    <tr>\n",
       "      <th>count</th>\n",
       "      <td>768.000000</td>\n",
       "      <td>768.000000</td>\n",
       "      <td>768.000000</td>\n",
       "      <td>768.000000</td>\n",
       "      <td>768.000000</td>\n",
       "      <td>768.000000</td>\n",
       "      <td>768.000000</td>\n",
       "      <td>768.000000</td>\n",
       "      <td>768.000000</td>\n",
       "    </tr>\n",
       "    <tr>\n",
       "      <th>mean</th>\n",
       "      <td>3.845052</td>\n",
       "      <td>120.894531</td>\n",
       "      <td>69.105469</td>\n",
       "      <td>20.536458</td>\n",
       "      <td>79.799479</td>\n",
       "      <td>31.992578</td>\n",
       "      <td>0.471876</td>\n",
       "      <td>33.240885</td>\n",
       "      <td>0.348958</td>\n",
       "    </tr>\n",
       "    <tr>\n",
       "      <th>std</th>\n",
       "      <td>3.369578</td>\n",
       "      <td>31.972618</td>\n",
       "      <td>19.355807</td>\n",
       "      <td>15.952218</td>\n",
       "      <td>115.244002</td>\n",
       "      <td>7.884160</td>\n",
       "      <td>0.331329</td>\n",
       "      <td>11.760232</td>\n",
       "      <td>0.476951</td>\n",
       "    </tr>\n",
       "    <tr>\n",
       "      <th>min</th>\n",
       "      <td>0.000000</td>\n",
       "      <td>0.000000</td>\n",
       "      <td>0.000000</td>\n",
       "      <td>0.000000</td>\n",
       "      <td>0.000000</td>\n",
       "      <td>0.000000</td>\n",
       "      <td>0.078000</td>\n",
       "      <td>21.000000</td>\n",
       "      <td>0.000000</td>\n",
       "    </tr>\n",
       "    <tr>\n",
       "      <th>25%</th>\n",
       "      <td>1.000000</td>\n",
       "      <td>99.000000</td>\n",
       "      <td>62.000000</td>\n",
       "      <td>0.000000</td>\n",
       "      <td>0.000000</td>\n",
       "      <td>27.300000</td>\n",
       "      <td>0.243750</td>\n",
       "      <td>24.000000</td>\n",
       "      <td>0.000000</td>\n",
       "    </tr>\n",
       "    <tr>\n",
       "      <th>50%</th>\n",
       "      <td>3.000000</td>\n",
       "      <td>117.000000</td>\n",
       "      <td>72.000000</td>\n",
       "      <td>23.000000</td>\n",
       "      <td>30.500000</td>\n",
       "      <td>32.000000</td>\n",
       "      <td>0.372500</td>\n",
       "      <td>29.000000</td>\n",
       "      <td>0.000000</td>\n",
       "    </tr>\n",
       "    <tr>\n",
       "      <th>75%</th>\n",
       "      <td>6.000000</td>\n",
       "      <td>140.250000</td>\n",
       "      <td>80.000000</td>\n",
       "      <td>32.000000</td>\n",
       "      <td>127.250000</td>\n",
       "      <td>36.600000</td>\n",
       "      <td>0.626250</td>\n",
       "      <td>41.000000</td>\n",
       "      <td>1.000000</td>\n",
       "    </tr>\n",
       "    <tr>\n",
       "      <th>max</th>\n",
       "      <td>17.000000</td>\n",
       "      <td>199.000000</td>\n",
       "      <td>122.000000</td>\n",
       "      <td>99.000000</td>\n",
       "      <td>846.000000</td>\n",
       "      <td>67.100000</td>\n",
       "      <td>2.420000</td>\n",
       "      <td>81.000000</td>\n",
       "      <td>1.000000</td>\n",
       "    </tr>\n",
       "  </tbody>\n",
       "</table>\n",
       "</div>"
      ],
      "text/plain": [
       "             preg  glc_concen  blood_pres        skin     insulin        mass  \\\n",
       "count  768.000000  768.000000  768.000000  768.000000  768.000000  768.000000   \n",
       "mean     3.845052  120.894531   69.105469   20.536458   79.799479   31.992578   \n",
       "std      3.369578   31.972618   19.355807   15.952218  115.244002    7.884160   \n",
       "min      0.000000    0.000000    0.000000    0.000000    0.000000    0.000000   \n",
       "25%      1.000000   99.000000   62.000000    0.000000    0.000000   27.300000   \n",
       "50%      3.000000  117.000000   72.000000   23.000000   30.500000   32.000000   \n",
       "75%      6.000000  140.250000   80.000000   32.000000  127.250000   36.600000   \n",
       "max     17.000000  199.000000  122.000000   99.000000  846.000000   67.100000   \n",
       "\n",
       "         pedigree         age       class  \n",
       "count  768.000000  768.000000  768.000000  \n",
       "mean     0.471876   33.240885    0.348958  \n",
       "std      0.331329   11.760232    0.476951  \n",
       "min      0.078000   21.000000    0.000000  \n",
       "25%      0.243750   24.000000    0.000000  \n",
       "50%      0.372500   29.000000    0.000000  \n",
       "75%      0.626250   41.000000    1.000000  \n",
       "max      2.420000   81.000000    1.000000  "
      ]
     },
     "execution_count": 264,
     "metadata": {},
     "output_type": "execute_result"
    }
   ],
   "source": [
    "raw_data.describe()"
   ]
  },
  {
   "cell_type": "markdown",
   "metadata": {},
   "source": [
    "**Describe the content of the dataset and its goals**\n",
    "==============\n",
    "- The dataset has 768 observations and 9 variables.  \n",
    "- All variables are of numerical values, among which two are composed of floating numbers and the rest are integers.\n",
    "- The 'class' variable contains binary values, which is something the model ultimately tries to test and predict. \n",
    "- Since the 'class' variable are binary values, its mean equals to the percentage of people who have diabetes in \n",
    "  this sample dataset. It is not presesentive to the general Pima Indian population since the given observations are on\n",
    "  21+ years old females only. \n",
    "- The dataset contains no missing values per se. However, if we look at the minimum value of each variable summarized in the       above table, the zero values present in 'blood_pres', 'skin','insulin','mass','pedigree' are likely to be the 'missing           values' that we were talking about. Since measurements for those indicators should be above-zero numbers by common sense.\n",
    "-----------------\n",
    "\n",
    "The **goal** would be to explore and determine what the best machine learning algorithm to use to predict on the diabetes rate among \n",
    "21+ years' old Pima Indian women based on the given dataset."
   ]
  },
  {
   "cell_type": "markdown",
   "metadata": {},
   "source": [
    "**Describe the features and formulate a hypothesis on which might be relevant in predicting diabetes**\n",
    "\n",
    "**Describe the missing/NULL values. Decide if you should impute or drop them and justify your choice.**\n",
    "==============\n",
    "- The last column 'class' is the result we tend to predict. So we have 8 features.\n",
    "- Based on my medical knowledge, 'plasma glucose concentration', '2-Hour serum insulin','Diabetes pedigree function' seem to \n",
    "   have high correlations with 'getting diabetes', while 'Diastolic blood pressure','Triceps skin fold thickness' and 'Age' \n",
    "   might have some influence on the diagnosis. \n",
    "- To understand which features are relevant and how much they contribute to the diabetes prediction, we could run a variable \n",
    "   correlation matrix. \n",
    "- The zeros values in certain features need to be manupulated before running correlation matrix. We could either \n",
    "       (1) drop the zeros\n",
    "       (2) replace the zeros with some values (e.g.mean)\n",
    "- The maximum value in 'insulin' column is significantly higher than mean (846 vs 80), which may indicate it as an outlier."
   ]
  },
  {
   "cell_type": "code",
   "execution_count": 265,
   "metadata": {
    "collapsed": false
   },
   "outputs": [
    {
     "data": {
      "text/plain": [
       "<matplotlib.axes._subplots.AxesSubplot at 0x20780710>"
      ]
     },
     "execution_count": 265,
     "metadata": {},
     "output_type": "execute_result"
    },
    {
     "data": {
      "image/png": "[encoded data removed]",
      "text/plain": [
       "<matplotlib.figure.Figure at 0x207809b0>"
      ]
     },
     "metadata": {},
     "output_type": "display_data"
    }
   ],
   "source": [
    "raw_data.drop('class', axis=1).apply(lambda x: sum(x==0.0)*1.0 / len(x)).sort_values().plot(kind='barh', \n",
    "                                                                       title='Proportion of Data Missing')\n"
   ]
  },
  {
   "cell_type": "code",
   "execution_count": 266,
   "metadata": {
    "collapsed": false
   },
   "outputs": [
    {
     "name": "stdout",
     "output_type": "stream",
     "text": [
      "There are 0.0065% missing data in variable 'glc_concen'. \n",
      "There are 0.0456% missing data in variable 'blood_pres'. \n",
      "There are 0.2956% missing data in variable 'skin'. \n",
      "There are 0.4870% missing data in variable 'insulin'. \n",
      "There are 0.0143% missing data in variable 'mass'. \n"
     ]
    }
   ],
   "source": [
    "print \"There are %.4f%% missing data in variable 'glc_concen'. \" %(1-float(np.count_nonzero(raw_data['glc_concen']))/768)\n",
    "print \"There are %.4f%% missing data in variable 'blood_pres'. \" %(1-float(np.count_nonzero(raw_data['blood_pres']))/768)\n",
    "print \"There are %.4f%% missing data in variable 'skin'. \" %(1-float(np.count_nonzero(raw_data['skin']))/768)\n",
    "print \"There are %.4f%% missing data in variable 'insulin'. \" %(1-float(np.count_nonzero(raw_data['insulin']))/768)\n",
    "print \"There are %.4f%% missing data in variable 'mass'. \" %(1-float(np.count_nonzero(raw_data['mass']))/768)\n"
   ]
  },
  {
   "cell_type": "markdown",
   "metadata": {},
   "source": [
    "Since the percentage of missing data, aka, zero values is very small (the greatest percentage is less than 0.5%), we could drop them.\n",
    "\n",
    "But we need to first replace all zero values with NaN before dropping them."
   ]
  },
  {
   "cell_type": "code",
   "execution_count": 267,
   "metadata": {
    "collapsed": false
   },
   "outputs": [
    {
     "data": {
      "text/plain": [
       "[846,\n",
       " 744,\n",
       " 680,\n",
       " 600,\n",
       " 579,\n",
       " 545,\n",
       " 543,\n",
       " 540,\n",
       " 510,\n",
       " 495,\n",
       " 495,\n",
       " 485,\n",
       " 480,\n",
       " 480,\n",
       " 478,\n",
       " 474,\n",
       " 465,\n",
       " 440,\n",
       " 415,\n",
       " 402,\n",
       " 392,\n",
       " 387,\n",
       " 375,\n",
       " 370,\n",
       " 360,\n",
       " 342,\n",
       " 335,\n",
       " 330,\n",
       " 328,\n",
       " 326,\n",
       " 325,\n",
       " 325,\n",
       " 325,\n",
       " 321,\n",
       " 318,\n",
       " 310,\n",
       " 304,\n",
       " 300,\n",
       " 293,\n",
       " 293,\n",
       " 291,\n",
       " 285,\n",
       " 285,\n",
       " 284,\n",
       " 280,\n",
       " 278,\n",
       " 277,\n",
       " 275,\n",
       " 274,\n",
       " 272,\n",
       " 271,\n",
       " 270,\n",
       " 265,\n",
       " 265,\n",
       " 258,\n",
       " 255,\n",
       " 250,\n",
       " 249,\n",
       " 245,\n",
       " 240,\n",
       " 240,\n",
       " 237,\n",
       " 235,\n",
       " 231,\n",
       " 231,\n",
       " 230,\n",
       " 230,\n",
       " 228,\n",
       " 225,\n",
       " 225,\n",
       " 220,\n",
       " 220,\n",
       " 215,\n",
       " 215,\n",
       " 215,\n",
       " 210,\n",
       " 210,\n",
       " 210,\n",
       " 210,\n",
       " 210,\n",
       " 207,\n",
       " 207,\n",
       " 205,\n",
       " 205,\n",
       " 204,\n",
       " 200,\n",
       " 200,\n",
       " 200,\n",
       " 200,\n",
       " 196,\n",
       " 194,\n",
       " 194,\n",
       " 194,\n",
       " 193,\n",
       " 192,\n",
       " 192,\n",
       " 191,\n",
       " 190,\n",
       " 190,\n",
       " 190,\n",
       " 190,\n",
       " 188,\n",
       " 185,\n",
       " 185,\n",
       " 184,\n",
       " 183,\n",
       " 182,\n",
       " 182,\n",
       " 182,\n",
       " 180,\n",
       " 180,\n",
       " 180,\n",
       " 180,\n",
       " 180,\n",
       " 180,\n",
       " 180,\n",
       " 178,\n",
       " 176,\n",
       " 176,\n",
       " 176,\n",
       " 175,\n",
       " 175,\n",
       " 175,\n",
       " 171,\n",
       " 170,\n",
       " 170,\n",
       " 168,\n",
       " 168,\n",
       " 168,\n",
       " 168,\n",
       " 167,\n",
       " 167,\n",
       " 166,\n",
       " 165,\n",
       " 165,\n",
       " 165,\n",
       " 165,\n",
       " 160,\n",
       " 160,\n",
       " 160,\n",
       " 160,\n",
       " 159,\n",
       " 158,\n",
       " 158,\n",
       " 156,\n",
       " 156,\n",
       " 156,\n",
       " 155,\n",
       " 155,\n",
       " 155,\n",
       " 155,\n",
       " 152,\n",
       " 152,\n",
       " 150,\n",
       " 150,\n",
       " 148,\n",
       " 148,\n",
       " 146,\n",
       " 145,\n",
       " 145,\n",
       " 145,\n",
       " 144,\n",
       " 144,\n",
       " 142,\n",
       " 140,\n",
       " 140,\n",
       " 140,\n",
       " 140,\n",
       " 140,\n",
       " 140,\n",
       " 140,\n",
       " 140,\n",
       " 140,\n",
       " 135,\n",
       " 135,\n",
       " 135,\n",
       " 135,\n",
       " 135,\n",
       " 135,\n",
       " 132,\n",
       " 132,\n",
       " 130,\n",
       " 130,\n",
       " 130,\n",
       " 130,\n",
       " 130,\n",
       " 130,\n",
       " 130,\n",
       " 130,\n",
       " 130,\n",
       " 129,\n",
       " 128,\n",
       " 127,\n",
       " 126,\n",
       " 126,\n",
       " 126,\n",
       " 125,\n",
       " 125,\n",
       " 125,\n",
       " 125,\n",
       " 122,\n",
       " 122,\n",
       " 120,\n",
       " 120,\n",
       " 120,\n",
       " 120,\n",
       " 120,\n",
       " 120,\n",
       " 120,\n",
       " 120,\n",
       " 119,\n",
       " 116,\n",
       " 116,\n",
       " 115,\n",
       " 115,\n",
       " 115,\n",
       " 115,\n",
       " 115,\n",
       " 115,\n",
       " 114,\n",
       " 114,\n",
       " 112,\n",
       " 110,\n",
       " 110,\n",
       " 110,\n",
       " 110,\n",
       " 110,\n",
       " 110,\n",
       " 108,\n",
       " 106,\n",
       " 106,\n",
       " 106,\n",
       " 105,\n",
       " 105,\n",
       " 105,\n",
       " 105,\n",
       " 105,\n",
       " 105,\n",
       " 105,\n",
       " 105,\n",
       " 105,\n",
       " 105,\n",
       " 105,\n",
       " 100,\n",
       " 100,\n",
       " 100,\n",
       " 100,\n",
       " 100,\n",
       " 100,\n",
       " 100,\n",
       " 99,\n",
       " 99,\n",
       " 96,\n",
       " 96,\n",
       " 95,\n",
       " 95,\n",
       " 94,\n",
       " 94,\n",
       " 94,\n",
       " 94,\n",
       " 94,\n",
       " 94,\n",
       " 94,\n",
       " 92,\n",
       " 92,\n",
       " 92,\n",
       " 91,\n",
       " 90,\n",
       " 90,\n",
       " 90,\n",
       " 90,\n",
       " 89,\n",
       " 88,\n",
       " 88,\n",
       " 88,\n",
       " 88,\n",
       " 87,\n",
       " 87,\n",
       " 86,\n",
       " 85,\n",
       " 85,\n",
       " 84,\n",
       " 83,\n",
       " 83,\n",
       " 83,\n",
       " 82,\n",
       " 82,\n",
       " 82,\n",
       " 81,\n",
       " 79,\n",
       " 79,\n",
       " 78,\n",
       " 78,\n",
       " 77,\n",
       " 77,\n",
       " 76,\n",
       " 76,\n",
       " 76,\n",
       " 76,\n",
       " 76,\n",
       " 75,\n",
       " 75,\n",
       " 75,\n",
       " 74,\n",
       " 74,\n",
       " 74,\n",
       " 73,\n",
       " 72,\n",
       " 71,\n",
       " 71,\n",
       " 71,\n",
       " 71,\n",
       " 70,\n",
       " 70,\n",
       " 70,\n",
       " 68,\n",
       " 67,\n",
       " 67,\n",
       " 66,\n",
       " 66,\n",
       " 66,\n",
       " 66,\n",
       " 66,\n",
       " 65,\n",
       " 64,\n",
       " 64,\n",
       " 64,\n",
       " 64,\n",
       " 63,\n",
       " 63,\n",
       " 63,\n",
       " 61,\n",
       " 60,\n",
       " 60,\n",
       " 59,\n",
       " 58,\n",
       " 58,\n",
       " 57,\n",
       " 57,\n",
       " 56,\n",
       " 56,\n",
       " 56,\n",
       " 56,\n",
       " 56,\n",
       " 55,\n",
       " 55,\n",
       " 54,\n",
       " 54,\n",
       " 54,\n",
       " 54,\n",
       " 53,\n",
       " 53,\n",
       " 52,\n",
       " 51,\n",
       " 50,\n",
       " 50,\n",
       " 50,\n",
       " 49,\n",
       " 49,\n",
       " 49,\n",
       " 49,\n",
       " 49,\n",
       " 48,\n",
       " 48,\n",
       " 48,\n",
       " 46,\n",
       " 45,\n",
       " 45,\n",
       " 45,\n",
       " 44,\n",
       " 44,\n",
       " 44,\n",
       " 43,\n",
       " 42,\n",
       " 41,\n",
       " 40,\n",
       " 40,\n",
       " 38,\n",
       " 37,\n",
       " 37,\n",
       " 36,\n",
       " 36,\n",
       " 36,\n",
       " 32,\n",
       " 29,\n",
       " 25,\n",
       " 23,\n",
       " 23,\n",
       " 22,\n",
       " 18,\n",
       " 18,\n",
       " 16,\n",
       " 15,\n",
       " 14,\n",
       " 0,\n",
       " 0,\n",
       " 0,\n",
       " 0,\n",
       " 0,\n",
       " 0,\n",
       " 0,\n",
       " 0,\n",
       " 0,\n",
       " 0,\n",
       " 0,\n",
       " 0,\n",
       " 0,\n",
       " 0,\n",
       " 0,\n",
       " 0,\n",
       " 0,\n",
       " 0,\n",
       " 0,\n",
       " 0,\n",
       " 0,\n",
       " 0,\n",
       " 0,\n",
       " 0,\n",
       " 0,\n",
       " 0,\n",
       " 0,\n",
       " 0,\n",
       " 0,\n",
       " 0,\n",
       " 0,\n",
       " 0,\n",
       " 0,\n",
       " 0,\n",
       " 0,\n",
       " 0,\n",
       " 0,\n",
       " 0,\n",
       " 0,\n",
       " 0,\n",
       " 0,\n",
       " 0,\n",
       " 0,\n",
       " 0,\n",
       " 0,\n",
       " 0,\n",
       " 0,\n",
       " 0,\n",
       " 0,\n",
       " 0,\n",
       " 0,\n",
       " 0,\n",
       " 0,\n",
       " 0,\n",
       " 0,\n",
       " 0,\n",
       " 0,\n",
       " 0,\n",
       " 0,\n",
       " 0,\n",
       " 0,\n",
       " 0,\n",
       " 0,\n",
       " 0,\n",
       " 0,\n",
       " 0,\n",
       " 0,\n",
       " 0,\n",
       " 0,\n",
       " 0,\n",
       " 0,\n",
       " 0,\n",
       " 0,\n",
       " 0,\n",
       " 0,\n",
       " 0,\n",
       " 0,\n",
       " 0,\n",
       " 0,\n",
       " 0,\n",
       " 0,\n",
       " 0,\n",
       " 0,\n",
       " 0,\n",
       " 0,\n",
       " 0,\n",
       " 0,\n",
       " 0,\n",
       " 0,\n",
       " 0,\n",
       " 0,\n",
       " 0,\n",
       " 0,\n",
       " 0,\n",
       " 0,\n",
       " 0,\n",
       " 0,\n",
       " 0,\n",
       " 0,\n",
       " 0,\n",
       " 0,\n",
       " 0,\n",
       " 0,\n",
       " 0,\n",
       " 0,\n",
       " 0,\n",
       " 0,\n",
       " 0,\n",
       " 0,\n",
       " 0,\n",
       " 0,\n",
       " 0,\n",
       " 0,\n",
       " 0,\n",
       " 0,\n",
       " 0,\n",
       " 0,\n",
       " 0,\n",
       " 0,\n",
       " 0,\n",
       " 0,\n",
       " 0,\n",
       " 0,\n",
       " 0,\n",
       " 0,\n",
       " 0,\n",
       " 0,\n",
       " 0,\n",
       " 0,\n",
       " 0,\n",
       " 0,\n",
       " 0,\n",
       " 0,\n",
       " 0,\n",
       " 0,\n",
       " 0,\n",
       " 0,\n",
       " 0,\n",
       " 0,\n",
       " 0,\n",
       " 0,\n",
       " 0,\n",
       " 0,\n",
       " 0,\n",
       " 0,\n",
       " 0,\n",
       " 0,\n",
       " 0,\n",
       " 0,\n",
       " 0,\n",
       " 0,\n",
       " 0,\n",
       " 0,\n",
       " 0,\n",
       " 0,\n",
       " 0,\n",
       " 0,\n",
       " 0,\n",
       " 0,\n",
       " 0,\n",
       " 0,\n",
       " 0,\n",
       " 0,\n",
       " 0,\n",
       " 0,\n",
       " 0,\n",
       " 0,\n",
       " 0,\n",
       " 0,\n",
       " 0,\n",
       " 0,\n",
       " 0,\n",
       " 0,\n",
       " 0,\n",
       " 0,\n",
       " 0,\n",
       " 0,\n",
       " 0,\n",
       " 0,\n",
       " 0,\n",
       " 0,\n",
       " 0,\n",
       " 0,\n",
       " 0,\n",
       " 0,\n",
       " 0,\n",
       " 0,\n",
       " 0,\n",
       " 0,\n",
       " 0,\n",
       " 0,\n",
       " 0,\n",
       " 0,\n",
       " 0,\n",
       " 0,\n",
       " 0,\n",
       " 0,\n",
       " 0,\n",
       " 0,\n",
       " 0,\n",
       " 0,\n",
       " 0,\n",
       " 0,\n",
       " 0,\n",
       " 0,\n",
       " 0,\n",
       " 0,\n",
       " 0,\n",
       " 0,\n",
       " 0,\n",
       " 0,\n",
       " 0,\n",
       " 0,\n",
       " 0,\n",
       " 0,\n",
       " 0,\n",
       " 0,\n",
       " 0,\n",
       " 0,\n",
       " 0,\n",
       " 0,\n",
       " 0,\n",
       " 0,\n",
       " 0,\n",
       " 0,\n",
       " 0,\n",
       " 0,\n",
       " 0,\n",
       " 0,\n",
       " 0,\n",
       " 0,\n",
       " 0,\n",
       " 0,\n",
       " 0,\n",
       " 0,\n",
       " 0,\n",
       " 0,\n",
       " 0,\n",
       " 0,\n",
       " 0,\n",
       " 0,\n",
       " 0,\n",
       " 0,\n",
       " 0,\n",
       " 0,\n",
       " 0,\n",
       " 0,\n",
       " 0,\n",
       " 0,\n",
       " 0,\n",
       " 0,\n",
       " 0,\n",
       " 0,\n",
       " 0,\n",
       " 0,\n",
       " 0,\n",
       " 0,\n",
       " 0,\n",
       " 0,\n",
       " 0,\n",
       " 0,\n",
       " 0,\n",
       " 0,\n",
       " 0,\n",
       " 0,\n",
       " 0,\n",
       " 0,\n",
       " 0,\n",
       " 0,\n",
       " 0,\n",
       " 0,\n",
       " 0,\n",
       " 0,\n",
       " 0,\n",
       " 0,\n",
       " 0,\n",
       " 0,\n",
       " 0,\n",
       " 0,\n",
       " 0,\n",
       " 0,\n",
       " 0,\n",
       " 0,\n",
       " 0,\n",
       " 0,\n",
       " 0,\n",
       " 0,\n",
       " 0,\n",
       " 0,\n",
       " 0,\n",
       " 0,\n",
       " 0,\n",
       " 0,\n",
       " 0,\n",
       " 0,\n",
       " 0,\n",
       " 0,\n",
       " 0,\n",
       " 0,\n",
       " 0,\n",
       " 0,\n",
       " 0,\n",
       " 0,\n",
       " 0,\n",
       " 0,\n",
       " 0,\n",
       " 0,\n",
       " 0,\n",
       " 0,\n",
       " 0,\n",
       " 0,\n",
       " 0,\n",
       " 0,\n",
       " 0,\n",
       " 0,\n",
       " 0,\n",
       " 0,\n",
       " 0,\n",
       " 0,\n",
       " 0,\n",
       " 0,\n",
       " 0,\n",
       " 0,\n",
       " 0,\n",
       " 0,\n",
       " 0,\n",
       " 0,\n",
       " 0,\n",
       " 0,\n",
       " 0,\n",
       " 0,\n",
       " 0,\n",
       " 0,\n",
       " 0,\n",
       " 0,\n",
       " 0,\n",
       " 0,\n",
       " 0,\n",
       " 0,\n",
       " 0,\n",
       " 0,\n",
       " 0,\n",
       " 0,\n",
       " 0,\n",
       " 0,\n",
       " 0,\n",
       " 0,\n",
       " 0,\n",
       " 0,\n",
       " 0,\n",
       " 0,\n",
       " 0,\n",
       " 0,\n",
       " 0,\n",
       " 0,\n",
       " 0,\n",
       " 0,\n",
       " 0,\n",
       " 0,\n",
       " 0,\n",
       " 0,\n",
       " 0,\n",
       " 0,\n",
       " 0,\n",
       " 0,\n",
       " 0,\n",
       " 0,\n",
       " 0,\n",
       " 0,\n",
       " 0,\n",
       " 0,\n",
       " 0,\n",
       " 0,\n",
       " 0]"
      ]
     },
     "execution_count": 267,
     "metadata": {},
     "output_type": "execute_result"
    }
   ],
   "source": [
    "#Take a closer look at column 'insulin' to determine if it is necessary to drop 'outliers'. \n",
    "\n",
    "sorted(raw_data['insulin'],reverse=True)"
   ]
  },
  {
   "cell_type": "markdown",
   "metadata": {},
   "source": [
    "Given that there are numbers like 744, 680, 600, 846 doesn't seems to be that of an anomaly. So we can just keep it."
   ]
  },
  {
   "cell_type": "code",
   "execution_count": 268,
   "metadata": {
    "collapsed": false
   },
   "outputs": [
    {
     "data": {
      "text/html": [
       "<div>\n",
       "<table border=\"1\" class=\"dataframe\">\n",
       "  <thead>\n",
       "    <tr style=\"text-align: right;\">\n",
       "      <th></th>\n",
       "      <th>preg</th>\n",
       "      <th>glc_concen</th>\n",
       "      <th>blood_pres</th>\n",
       "      <th>skin</th>\n",
       "      <th>insulin</th>\n",
       "      <th>mass</th>\n",
       "      <th>pedigree</th>\n",
       "      <th>age</th>\n",
       "      <th>class</th>\n",
       "    </tr>\n",
       "  </thead>\n",
       "  <tbody>\n",
       "    <tr>\n",
       "      <th>0</th>\n",
       "      <td>6</td>\n",
       "      <td>148</td>\n",
       "      <td>72</td>\n",
       "      <td>35</td>\n",
       "      <td>NaN</td>\n",
       "      <td>33.6</td>\n",
       "      <td>0.627</td>\n",
       "      <td>50</td>\n",
       "      <td>1</td>\n",
       "    </tr>\n",
       "    <tr>\n",
       "      <th>1</th>\n",
       "      <td>1</td>\n",
       "      <td>85</td>\n",
       "      <td>66</td>\n",
       "      <td>29</td>\n",
       "      <td>NaN</td>\n",
       "      <td>26.6</td>\n",
       "      <td>0.351</td>\n",
       "      <td>31</td>\n",
       "      <td>0</td>\n",
       "    </tr>\n",
       "    <tr>\n",
       "      <th>2</th>\n",
       "      <td>8</td>\n",
       "      <td>183</td>\n",
       "      <td>64</td>\n",
       "      <td>NaN</td>\n",
       "      <td>NaN</td>\n",
       "      <td>23.3</td>\n",
       "      <td>0.672</td>\n",
       "      <td>32</td>\n",
       "      <td>1</td>\n",
       "    </tr>\n",
       "    <tr>\n",
       "      <th>3</th>\n",
       "      <td>1</td>\n",
       "      <td>89</td>\n",
       "      <td>66</td>\n",
       "      <td>23</td>\n",
       "      <td>94</td>\n",
       "      <td>28.1</td>\n",
       "      <td>0.167</td>\n",
       "      <td>21</td>\n",
       "      <td>0</td>\n",
       "    </tr>\n",
       "    <tr>\n",
       "      <th>4</th>\n",
       "      <td>0</td>\n",
       "      <td>137</td>\n",
       "      <td>40</td>\n",
       "      <td>35</td>\n",
       "      <td>168</td>\n",
       "      <td>43.1</td>\n",
       "      <td>2.288</td>\n",
       "      <td>33</td>\n",
       "      <td>1</td>\n",
       "    </tr>\n",
       "  </tbody>\n",
       "</table>\n",
       "</div>"
      ],
      "text/plain": [
       "   preg  glc_concen  blood_pres  skin  insulin  mass  pedigree  age  class\n",
       "0     6         148          72    35      NaN  33.6     0.627   50      1\n",
       "1     1          85          66    29      NaN  26.6     0.351   31      0\n",
       "2     8         183          64   NaN      NaN  23.3     0.672   32      1\n",
       "3     1          89          66    23       94  28.1     0.167   21      0\n",
       "4     0         137          40    35      168  43.1     2.288   33      1"
      ]
     },
     "execution_count": 268,
     "metadata": {},
     "output_type": "execute_result"
    }
   ],
   "source": [
    "data = raw_data.copy().replace({'glc_concen':{0:np.nan},'blood_pres':{0:np.nan},'blood_pres':{0:np.nan},'skin':{0:np.nan},'insulin':{0:np.nan},\\\n",
    "                    'mass':{0:np.nan}})\n",
    "\n",
    "\n",
    "data.head()"
   ]
  },
  {
   "cell_type": "code",
   "execution_count": 269,
   "metadata": {
    "collapsed": false
   },
   "outputs": [
    {
     "data": {
      "text/plain": [
       "(392, 9)"
      ]
     },
     "execution_count": 269,
     "metadata": {},
     "output_type": "execute_result"
    }
   ],
   "source": [
    "df=data.copy() \n",
    "\n",
    "df.dropna(axis=0,how='any',inplace=True)\n",
    "\n",
    "df.shape"
   ]
  },
  {
   "cell_type": "markdown",
   "metadata": {},
   "source": [
    "Now the sample size has been reduced to 392 observations. "
   ]
  },
  {
   "cell_type": "code",
   "execution_count": 270,
   "metadata": {
    "collapsed": false
   },
   "outputs": [
    {
     "data": {
      "text/html": [
       "<div>\n",
       "<table border=\"1\" class=\"dataframe\">\n",
       "  <thead>\n",
       "    <tr style=\"text-align: right;\">\n",
       "      <th></th>\n",
       "      <th>preg</th>\n",
       "      <th>glc_concen</th>\n",
       "      <th>blood_pres</th>\n",
       "      <th>skin</th>\n",
       "      <th>insulin</th>\n",
       "      <th>mass</th>\n",
       "      <th>pedigree</th>\n",
       "      <th>age</th>\n",
       "      <th>class</th>\n",
       "    </tr>\n",
       "  </thead>\n",
       "  <tbody>\n",
       "    <tr>\n",
       "      <th>count</th>\n",
       "      <td>392.000000</td>\n",
       "      <td>392.000000</td>\n",
       "      <td>392.000000</td>\n",
       "      <td>392.000000</td>\n",
       "      <td>392.000000</td>\n",
       "      <td>392.000000</td>\n",
       "      <td>392.000000</td>\n",
       "      <td>392.000000</td>\n",
       "      <td>392.000000</td>\n",
       "    </tr>\n",
       "    <tr>\n",
       "      <th>mean</th>\n",
       "      <td>3.301020</td>\n",
       "      <td>122.627551</td>\n",
       "      <td>70.663265</td>\n",
       "      <td>29.145408</td>\n",
       "      <td>156.056122</td>\n",
       "      <td>33.086224</td>\n",
       "      <td>0.523046</td>\n",
       "      <td>30.864796</td>\n",
       "      <td>0.331633</td>\n",
       "    </tr>\n",
       "    <tr>\n",
       "      <th>std</th>\n",
       "      <td>3.211424</td>\n",
       "      <td>30.860781</td>\n",
       "      <td>12.496092</td>\n",
       "      <td>10.516424</td>\n",
       "      <td>118.841690</td>\n",
       "      <td>7.027659</td>\n",
       "      <td>0.345488</td>\n",
       "      <td>10.200777</td>\n",
       "      <td>0.471401</td>\n",
       "    </tr>\n",
       "    <tr>\n",
       "      <th>min</th>\n",
       "      <td>0.000000</td>\n",
       "      <td>56.000000</td>\n",
       "      <td>24.000000</td>\n",
       "      <td>7.000000</td>\n",
       "      <td>14.000000</td>\n",
       "      <td>18.200000</td>\n",
       "      <td>0.085000</td>\n",
       "      <td>21.000000</td>\n",
       "      <td>0.000000</td>\n",
       "    </tr>\n",
       "    <tr>\n",
       "      <th>25%</th>\n",
       "      <td>1.000000</td>\n",
       "      <td>99.000000</td>\n",
       "      <td>62.000000</td>\n",
       "      <td>21.000000</td>\n",
       "      <td>76.750000</td>\n",
       "      <td>28.400000</td>\n",
       "      <td>0.269750</td>\n",
       "      <td>23.000000</td>\n",
       "      <td>0.000000</td>\n",
       "    </tr>\n",
       "    <tr>\n",
       "      <th>50%</th>\n",
       "      <td>2.000000</td>\n",
       "      <td>119.000000</td>\n",
       "      <td>70.000000</td>\n",
       "      <td>29.000000</td>\n",
       "      <td>125.500000</td>\n",
       "      <td>33.200000</td>\n",
       "      <td>0.449500</td>\n",
       "      <td>27.000000</td>\n",
       "      <td>0.000000</td>\n",
       "    </tr>\n",
       "    <tr>\n",
       "      <th>75%</th>\n",
       "      <td>5.000000</td>\n",
       "      <td>143.000000</td>\n",
       "      <td>78.000000</td>\n",
       "      <td>37.000000</td>\n",
       "      <td>190.000000</td>\n",
       "      <td>37.100000</td>\n",
       "      <td>0.687000</td>\n",
       "      <td>36.000000</td>\n",
       "      <td>1.000000</td>\n",
       "    </tr>\n",
       "    <tr>\n",
       "      <th>max</th>\n",
       "      <td>17.000000</td>\n",
       "      <td>198.000000</td>\n",
       "      <td>110.000000</td>\n",
       "      <td>63.000000</td>\n",
       "      <td>846.000000</td>\n",
       "      <td>67.100000</td>\n",
       "      <td>2.420000</td>\n",
       "      <td>81.000000</td>\n",
       "      <td>1.000000</td>\n",
       "    </tr>\n",
       "  </tbody>\n",
       "</table>\n",
       "</div>"
      ],
      "text/plain": [
       "             preg  glc_concen  blood_pres        skin     insulin        mass  \\\n",
       "count  392.000000  392.000000  392.000000  392.000000  392.000000  392.000000   \n",
       "mean     3.301020  122.627551   70.663265   29.145408  156.056122   33.086224   \n",
       "std      3.211424   30.860781   12.496092   10.516424  118.841690    7.027659   \n",
       "min      0.000000   56.000000   24.000000    7.000000   14.000000   18.200000   \n",
       "25%      1.000000   99.000000   62.000000   21.000000   76.750000   28.400000   \n",
       "50%      2.000000  119.000000   70.000000   29.000000  125.500000   33.200000   \n",
       "75%      5.000000  143.000000   78.000000   37.000000  190.000000   37.100000   \n",
       "max     17.000000  198.000000  110.000000   63.000000  846.000000   67.100000   \n",
       "\n",
       "         pedigree         age       class  \n",
       "count  392.000000  392.000000  392.000000  \n",
       "mean     0.523046   30.864796    0.331633  \n",
       "std      0.345488   10.200777    0.471401  \n",
       "min      0.085000   21.000000    0.000000  \n",
       "25%      0.269750   23.000000    0.000000  \n",
       "50%      0.449500   27.000000    0.000000  \n",
       "75%      0.687000   36.000000    1.000000  \n",
       "max      2.420000   81.000000    1.000000  "
      ]
     },
     "execution_count": 270,
     "metadata": {},
     "output_type": "execute_result"
    }
   ],
   "source": [
    "df.describe()"
   ]
  },
  {
   "cell_type": "code",
   "execution_count": 271,
   "metadata": {
    "collapsed": false
   },
   "outputs": [
    {
     "data": {
      "text/html": [
       "<div>\n",
       "<table border=\"1\" class=\"dataframe\">\n",
       "  <thead>\n",
       "    <tr style=\"text-align: right;\">\n",
       "      <th></th>\n",
       "      <th>preg</th>\n",
       "      <th>glc_concen</th>\n",
       "      <th>blood_pres</th>\n",
       "      <th>skin</th>\n",
       "      <th>insulin</th>\n",
       "      <th>mass</th>\n",
       "      <th>pedigree</th>\n",
       "      <th>age</th>\n",
       "      <th>class</th>\n",
       "    </tr>\n",
       "  </thead>\n",
       "  <tbody>\n",
       "    <tr>\n",
       "      <th>preg</th>\n",
       "      <td>1.000000</td>\n",
       "      <td>0.198291</td>\n",
       "      <td>0.213355</td>\n",
       "      <td>0.093209</td>\n",
       "      <td>0.078984</td>\n",
       "      <td>-0.025347</td>\n",
       "      <td>0.007562</td>\n",
       "      <td>0.679608</td>\n",
       "      <td>0.256566</td>\n",
       "    </tr>\n",
       "    <tr>\n",
       "      <th>glc_concen</th>\n",
       "      <td>0.198291</td>\n",
       "      <td>1.000000</td>\n",
       "      <td>0.210027</td>\n",
       "      <td>0.198856</td>\n",
       "      <td>0.581223</td>\n",
       "      <td>0.209516</td>\n",
       "      <td>0.140180</td>\n",
       "      <td>0.343641</td>\n",
       "      <td>0.515703</td>\n",
       "    </tr>\n",
       "    <tr>\n",
       "      <th>blood_pres</th>\n",
       "      <td>0.213355</td>\n",
       "      <td>0.210027</td>\n",
       "      <td>1.000000</td>\n",
       "      <td>0.232571</td>\n",
       "      <td>0.098512</td>\n",
       "      <td>0.304403</td>\n",
       "      <td>-0.015971</td>\n",
       "      <td>0.300039</td>\n",
       "      <td>0.192673</td>\n",
       "    </tr>\n",
       "    <tr>\n",
       "      <th>skin</th>\n",
       "      <td>0.093209</td>\n",
       "      <td>0.198856</td>\n",
       "      <td>0.232571</td>\n",
       "      <td>1.000000</td>\n",
       "      <td>0.182199</td>\n",
       "      <td>0.664355</td>\n",
       "      <td>0.160499</td>\n",
       "      <td>0.167761</td>\n",
       "      <td>0.255936</td>\n",
       "    </tr>\n",
       "    <tr>\n",
       "      <th>insulin</th>\n",
       "      <td>0.078984</td>\n",
       "      <td>0.581223</td>\n",
       "      <td>0.098512</td>\n",
       "      <td>0.182199</td>\n",
       "      <td>1.000000</td>\n",
       "      <td>0.226397</td>\n",
       "      <td>0.135906</td>\n",
       "      <td>0.217082</td>\n",
       "      <td>0.301429</td>\n",
       "    </tr>\n",
       "    <tr>\n",
       "      <th>mass</th>\n",
       "      <td>-0.025347</td>\n",
       "      <td>0.209516</td>\n",
       "      <td>0.304403</td>\n",
       "      <td>0.664355</td>\n",
       "      <td>0.226397</td>\n",
       "      <td>1.000000</td>\n",
       "      <td>0.158771</td>\n",
       "      <td>0.069814</td>\n",
       "      <td>0.270118</td>\n",
       "    </tr>\n",
       "    <tr>\n",
       "      <th>pedigree</th>\n",
       "      <td>0.007562</td>\n",
       "      <td>0.140180</td>\n",
       "      <td>-0.015971</td>\n",
       "      <td>0.160499</td>\n",
       "      <td>0.135906</td>\n",
       "      <td>0.158771</td>\n",
       "      <td>1.000000</td>\n",
       "      <td>0.085029</td>\n",
       "      <td>0.209330</td>\n",
       "    </tr>\n",
       "    <tr>\n",
       "      <th>age</th>\n",
       "      <td>0.679608</td>\n",
       "      <td>0.343641</td>\n",
       "      <td>0.300039</td>\n",
       "      <td>0.167761</td>\n",
       "      <td>0.217082</td>\n",
       "      <td>0.069814</td>\n",
       "      <td>0.085029</td>\n",
       "      <td>1.000000</td>\n",
       "      <td>0.350804</td>\n",
       "    </tr>\n",
       "    <tr>\n",
       "      <th>class</th>\n",
       "      <td>0.256566</td>\n",
       "      <td>0.515703</td>\n",
       "      <td>0.192673</td>\n",
       "      <td>0.255936</td>\n",
       "      <td>0.301429</td>\n",
       "      <td>0.270118</td>\n",
       "      <td>0.209330</td>\n",
       "      <td>0.350804</td>\n",
       "      <td>1.000000</td>\n",
       "    </tr>\n",
       "  </tbody>\n",
       "</table>\n",
       "</div>"
      ],
      "text/plain": [
       "                preg  glc_concen  blood_pres      skin   insulin      mass  \\\n",
       "preg        1.000000    0.198291    0.213355  0.093209  0.078984 -0.025347   \n",
       "glc_concen  0.198291    1.000000    0.210027  0.198856  0.581223  0.209516   \n",
       "blood_pres  0.213355    0.210027    1.000000  0.232571  0.098512  0.304403   \n",
       "skin        0.093209    0.198856    0.232571  1.000000  0.182199  0.664355   \n",
       "insulin     0.078984    0.581223    0.098512  0.182199  1.000000  0.226397   \n",
       "mass       -0.025347    0.209516    0.304403  0.664355  0.226397  1.000000   \n",
       "pedigree    0.007562    0.140180   -0.015971  0.160499  0.135906  0.158771   \n",
       "age         0.679608    0.343641    0.300039  0.167761  0.217082  0.069814   \n",
       "class       0.256566    0.515703    0.192673  0.255936  0.301429  0.270118   \n",
       "\n",
       "            pedigree       age     class  \n",
       "preg        0.007562  0.679608  0.256566  \n",
       "glc_concen  0.140180  0.343641  0.515703  \n",
       "blood_pres -0.015971  0.300039  0.192673  \n",
       "skin        0.160499  0.167761  0.255936  \n",
       "insulin     0.135906  0.217082  0.301429  \n",
       "mass        0.158771  0.069814  0.270118  \n",
       "pedigree    1.000000  0.085029  0.209330  \n",
       "age         0.085029  1.000000  0.350804  \n",
       "class       0.209330  0.350804  1.000000  "
      ]
     },
     "execution_count": 271,
     "metadata": {},
     "output_type": "execute_result"
    }
   ],
   "source": [
    "#run a feature correlation matrix\n",
    "\n",
    "df.corr()"
   ]
  },
  {
   "cell_type": "markdown",
   "metadata": {},
   "source": [
    "Based on the matrix table, there are preg-age, glc_concen-insulin, skin-mass these three pairs that have strong correlations. \n",
    "This will be the reference for later algorithm choosing."
   ]
  },
  {
   "cell_type": "markdown",
   "metadata": {},
   "source": [
    "**Come up with a benchmark for the minimum performance that an algorithm should have on this dataset**"
   ]
  },
  {
   "cell_type": "markdown",
   "metadata": {},
   "source": [
    "Create s 'dummy' models. The DummyClassifier will be a baseline to compare with other classifiers.\n",
    "\n",
    "DummyRegressor predicts mean; DummyClassifier predicts the most common class. We'll try to beat them! "
   ]
  },
  {
   "cell_type": "code",
   "execution_count": 272,
   "metadata": {
    "collapsed": true
   },
   "outputs": [],
   "source": [
    "from sklearn.dummy import DummyClassifier, DummyRegressor\n",
    "\n",
    "dc = DummyClassifier(strategy='uniform', random_state=None, constant=None)\n",
    "dr = DummyRegressor(strategy='mean', constant=None, quantile=None)"
   ]
  },
  {
   "cell_type": "code",
   "execution_count": 273,
   "metadata": {
    "collapsed": true
   },
   "outputs": [],
   "source": [
    "#Data split\n",
    "\n",
    "pima_labels = df['class']\n",
    "pima_X = df.drop('class', axis=1)\n",
    "\n",
    "\n",
    "from sklearn.cross_validation import train_test_split\n",
    "X_train, X_test, y_train, y_test = train_test_split(pima_X, pima_labels, \n",
    "                                                    test_size=0.2, random_state=7)\n",
    "            "
   ]
  },
  {
   "cell_type": "code",
   "execution_count": 274,
   "metadata": {
    "collapsed": false
   },
   "outputs": [
    {
     "data": {
      "text/plain": [
       "array([-0.02058685, -0.01276931, -0.0106541 , -0.03916995, -0.00114352])"
      ]
     },
     "execution_count": 274,
     "metadata": {},
     "output_type": "execute_result"
    }
   ],
   "source": [
    "from sklearn.cross_validation import cross_val_score\n",
    "\n",
    "dr.fit(X_train, y_train)\n",
    "\n",
    "benchmark1=cross_val_score(dr,X_train, y_train, cv=5)\n",
    "\n",
    "benchmark1"
   ]
  },
  {
   "cell_type": "code",
   "execution_count": 275,
   "metadata": {
    "collapsed": false
   },
   "outputs": [
    {
     "data": {
      "text/plain": [
       "-0.016864746831123555"
      ]
     },
     "execution_count": 275,
     "metadata": {},
     "output_type": "execute_result"
    }
   ],
   "source": [
    "benchmark1.mean()"
   ]
  },
  {
   "cell_type": "code",
   "execution_count": 276,
   "metadata": {
    "collapsed": false
   },
   "outputs": [
    {
     "data": {
      "text/plain": [
       "array([ 0.453125  ,  0.44444444,  0.53225806,  0.40322581,  0.56451613])"
      ]
     },
     "execution_count": 276,
     "metadata": {},
     "output_type": "execute_result"
    }
   ],
   "source": [
    "dc.fit(X_train, y_train)\n",
    "\n",
    "benchmark2=cross_val_score(dc,X_train, y_train, cv=5)\n",
    "\n",
    "benchmark2"
   ]
  },
  {
   "cell_type": "code",
   "execution_count": 277,
   "metadata": {
    "collapsed": false
   },
   "outputs": [
    {
     "data": {
      "text/plain": [
       "0.47951388888888885"
      ]
     },
     "execution_count": 277,
     "metadata": {},
     "output_type": "execute_result"
    }
   ],
   "source": [
    "benchmark2.mean()"
   ]
  },
  {
   "cell_type": "markdown",
   "metadata": {},
   "source": [
    "We try to predict if someone has diabetes. This is a classfication. We will be looking at benchmark2. "
   ]
  },
  {
   "cell_type": "markdown",
   "metadata": {},
   "source": [
    "**What's the best performance you can get with kNN? Is kNN a good choice for this dataset?**"
   ]
  },
  {
   "cell_type": "code",
   "execution_count": 278,
   "metadata": {
    "collapsed": true
   },
   "outputs": [],
   "source": [
    "# 10 cross validation iterations with 20% test / 80% train\n",
    "from sklearn.cross_validation import ShuffleSplit\n",
    "cv = ShuffleSplit(X_train.shape[0], n_iter=10, test_size=0.2, random_state=0)"
   ]
  },
  {
   "cell_type": "code",
   "execution_count": 279,
   "metadata": {
    "collapsed": true
   },
   "outputs": [],
   "source": [
    "# Standardization: bring all of the features onto the same scale\n",
    "\n",
    "from sklearn.preprocessing import StandardScaler\n",
    "stdsc = StandardScaler()\n",
    "# transform our training features\n",
    "X_train_std = stdsc.fit_transform(X_train)\n",
    "# transform the testing features in the same way\n",
    "X_test_std = stdsc.transform(X_test)"
   ]
  },
  {
   "cell_type": "code",
   "execution_count": 280,
   "metadata": {
    "collapsed": false
   },
   "outputs": [
    {
     "data": {
      "text/plain": [
       "(313L, 8L)"
      ]
     },
     "execution_count": 280,
     "metadata": {},
     "output_type": "execute_result"
    }
   ],
   "source": [
    "X_train_std.shape"
   ]
  },
  {
   "cell_type": "code",
   "execution_count": 281,
   "metadata": {
    "collapsed": false
   },
   "outputs": [
    {
     "data": {
      "text/plain": [
       "(79L, 8L)"
      ]
     },
     "execution_count": 281,
     "metadata": {},
     "output_type": "execute_result"
    }
   ],
   "source": [
    "X_test_std.shape"
   ]
  },
  {
   "cell_type": "code",
   "execution_count": 282,
   "metadata": {
    "collapsed": false
   },
   "outputs": [
    {
     "data": {
      "text/html": [
       "<div>\n",
       "<table border=\"1\" class=\"dataframe\">\n",
       "  <thead>\n",
       "    <tr style=\"text-align: right;\">\n",
       "      <th></th>\n",
       "      <th>preg</th>\n",
       "      <th>glc_concen</th>\n",
       "      <th>blood_pres</th>\n",
       "      <th>skin</th>\n",
       "      <th>insulin</th>\n",
       "      <th>mass</th>\n",
       "      <th>pedigree</th>\n",
       "      <th>age</th>\n",
       "    </tr>\n",
       "  </thead>\n",
       "  <tbody>\n",
       "    <tr>\n",
       "      <th>0</th>\n",
       "      <td>0.802410</td>\n",
       "      <td>-0.544995</td>\n",
       "      <td>-0.014177</td>\n",
       "      <td>0.294995</td>\n",
       "      <td>-0.733566</td>\n",
       "      <td>-0.304580</td>\n",
       "      <td>-1.113849</td>\n",
       "      <td>0.609127</td>\n",
       "    </tr>\n",
       "    <tr>\n",
       "      <th>1</th>\n",
       "      <td>0.492726</td>\n",
       "      <td>-0.741142</td>\n",
       "      <td>-1.281977</td>\n",
       "      <td>-0.081876</td>\n",
       "      <td>-0.603972</td>\n",
       "      <td>0.142798</td>\n",
       "      <td>-0.075459</td>\n",
       "      <td>-0.092185</td>\n",
       "    </tr>\n",
       "    <tr>\n",
       "      <th>2</th>\n",
       "      <td>-1.055699</td>\n",
       "      <td>0.141523</td>\n",
       "      <td>1.095149</td>\n",
       "      <td>0.012342</td>\n",
       "      <td>0.536456</td>\n",
       "      <td>-0.318560</td>\n",
       "      <td>-0.017617</td>\n",
       "      <td>-0.693310</td>\n",
       "    </tr>\n",
       "    <tr>\n",
       "      <th>3</th>\n",
       "      <td>-0.126644</td>\n",
       "      <td>-0.185390</td>\n",
       "      <td>0.302773</td>\n",
       "      <td>-1.306709</td>\n",
       "      <td>-0.413901</td>\n",
       "      <td>-0.933706</td>\n",
       "      <td>-1.155164</td>\n",
       "      <td>-0.693310</td>\n",
       "    </tr>\n",
       "    <tr>\n",
       "      <th>4</th>\n",
       "      <td>-0.436329</td>\n",
       "      <td>-0.316155</td>\n",
       "      <td>-0.172652</td>\n",
       "      <td>-0.647183</td>\n",
       "      <td>-0.508936</td>\n",
       "      <td>0.156779</td>\n",
       "      <td>-0.582259</td>\n",
       "      <td>-0.492935</td>\n",
       "    </tr>\n",
       "  </tbody>\n",
       "</table>\n",
       "</div>"
      ],
      "text/plain": [
       "       preg  glc_concen  blood_pres      skin   insulin      mass  pedigree  \\\n",
       "0  0.802410   -0.544995   -0.014177  0.294995 -0.733566 -0.304580 -1.113849   \n",
       "1  0.492726   -0.741142   -1.281977 -0.081876 -0.603972  0.142798 -0.075459   \n",
       "2 -1.055699    0.141523    1.095149  0.012342  0.536456 -0.318560 -0.017617   \n",
       "3 -0.126644   -0.185390    0.302773 -1.306709 -0.413901 -0.933706 -1.155164   \n",
       "4 -0.436329   -0.316155   -0.172652 -0.647183 -0.508936  0.156779 -0.582259   \n",
       "\n",
       "        age  \n",
       "0  0.609127  \n",
       "1 -0.092185  \n",
       "2 -0.693310  \n",
       "3 -0.693310  \n",
       "4 -0.492935  "
      ]
     },
     "execution_count": 282,
     "metadata": {},
     "output_type": "execute_result"
    }
   ],
   "source": [
    "#Now all features are on the same scale\n",
    "\n",
    "pd.DataFrame(X_train_std, columns=X_train.columns).head()"
   ]
  },
  {
   "cell_type": "code",
   "execution_count": 283,
   "metadata": {
    "collapsed": false
   },
   "outputs": [
    {
     "data": {
      "text/plain": [
       "GridSearchCV(cv=ShuffleSplit(313, n_iter=10, test_size=0.2, random_state=0),\n",
       "       error_score='raise',\n",
       "       estimator=KNeighborsClassifier(algorithm='auto', leaf_size=30, metric='minkowski',\n",
       "           metric_params=None, n_jobs=1, n_neighbors=5, p=2,\n",
       "           weights='uniform'),\n",
       "       fit_params={}, iid=True, n_jobs=1,\n",
       "       param_grid={'n_neighbors': [1, 2, 3, 4, 5, 6, 7, 8, 9, 10, 11, 12, 13, 14], 'weights': ['uniform', 'distance'], 'p': [1, 2, 3]},\n",
       "       pre_dispatch='2*n_jobs', refit=True, scoring='f1', verbose=0)"
      ]
     },
     "execution_count": 283,
     "metadata": {},
     "output_type": "execute_result"
    }
   ],
   "source": [
    "from sklearn.neighbors import KNeighborsClassifier\n",
    "from sklearn.grid_search import GridSearchCV\n",
    "\n",
    "knn = KNeighborsClassifier()\n",
    "\n",
    "parameters = {'n_neighbors': range(1,15), 'weights': ['uniform', 'distance'],\n",
    "             'p': range(1,4)}\n",
    "\n",
    "clf = GridSearchCV(knn, parameters, scoring='f1', cv=cv)\n",
    "\n",
    "clf.fit(X_train_std, y_train)"
   ]
  },
  {
   "cell_type": "code",
   "execution_count": 284,
   "metadata": {
    "collapsed": false
   },
   "outputs": [
    {
     "data": {
      "text/plain": [
       "{'n_neighbors': 3, 'p': 2, 'weights': 'uniform'}"
      ]
     },
     "execution_count": 284,
     "metadata": {},
     "output_type": "execute_result"
    }
   ],
   "source": [
    "# get the best performing combo\n",
    "clf.best_params_"
   ]
  },
  {
   "cell_type": "code",
   "execution_count": 285,
   "metadata": {
    "collapsed": false
   },
   "outputs": [
    {
     "data": {
      "text/plain": [
       "[mean: 0.55775, std: 0.07594, params: {'n_neighbors': 1, 'weights': 'uniform', 'p': 1},\n",
       " mean: 0.55775, std: 0.07594, params: {'n_neighbors': 1, 'weights': 'distance', 'p': 1},\n",
       " mean: 0.55923, std: 0.08196, params: {'n_neighbors': 1, 'weights': 'uniform', 'p': 2},\n",
       " mean: 0.55923, std: 0.08196, params: {'n_neighbors': 1, 'weights': 'distance', 'p': 2},\n",
       " mean: 0.56386, std: 0.07553, params: {'n_neighbors': 1, 'weights': 'uniform', 'p': 3},\n",
       " mean: 0.56386, std: 0.07553, params: {'n_neighbors': 1, 'weights': 'distance', 'p': 3},\n",
       " mean: 0.43615, std: 0.10871, params: {'n_neighbors': 2, 'weights': 'uniform', 'p': 1},\n",
       " mean: 0.55775, std: 0.07594, params: {'n_neighbors': 2, 'weights': 'distance', 'p': 1},\n",
       " mean: 0.47552, std: 0.09302, params: {'n_neighbors': 2, 'weights': 'uniform', 'p': 2},\n",
       " mean: 0.55923, std: 0.08196, params: {'n_neighbors': 2, 'weights': 'distance', 'p': 2},\n",
       " mean: 0.47922, std: 0.09019, params: {'n_neighbors': 2, 'weights': 'uniform', 'p': 3},\n",
       " mean: 0.56386, std: 0.07553, params: {'n_neighbors': 2, 'weights': 'distance', 'p': 3},\n",
       " mean: 0.61237, std: 0.07903, params: {'n_neighbors': 3, 'weights': 'uniform', 'p': 1},\n",
       " mean: 0.60735, std: 0.07947, params: {'n_neighbors': 3, 'weights': 'distance', 'p': 1},\n",
       " mean: 0.67668, std: 0.08474, params: {'n_neighbors': 3, 'weights': 'uniform', 'p': 2},\n",
       " mean: 0.67162, std: 0.08397, params: {'n_neighbors': 3, 'weights': 'distance', 'p': 2},\n",
       " mean: 0.64152, std: 0.06516, params: {'n_neighbors': 3, 'weights': 'uniform', 'p': 3},\n",
       " mean: 0.63650, std: 0.06460, params: {'n_neighbors': 3, 'weights': 'distance', 'p': 3},\n",
       " mean: 0.53939, std: 0.15054, params: {'n_neighbors': 4, 'weights': 'uniform', 'p': 1},\n",
       " mean: 0.59611, std: 0.09988, params: {'n_neighbors': 4, 'weights': 'distance', 'p': 1},\n",
       " mean: 0.54910, std: 0.12042, params: {'n_neighbors': 4, 'weights': 'uniform', 'p': 2},\n",
       " mean: 0.64330, std: 0.08199, params: {'n_neighbors': 4, 'weights': 'distance', 'p': 2},\n",
       " mean: 0.51283, std: 0.07622, params: {'n_neighbors': 4, 'weights': 'uniform', 'p': 3},\n",
       " mean: 0.62734, std: 0.08146, params: {'n_neighbors': 4, 'weights': 'distance', 'p': 3},\n",
       " mean: 0.61155, std: 0.08871, params: {'n_neighbors': 5, 'weights': 'uniform', 'p': 1},\n",
       " mean: 0.61155, std: 0.08871, params: {'n_neighbors': 5, 'weights': 'distance', 'p': 1},\n",
       " mean: 0.64683, std: 0.11721, params: {'n_neighbors': 5, 'weights': 'uniform', 'p': 2},\n",
       " mean: 0.64683, std: 0.11721, params: {'n_neighbors': 5, 'weights': 'distance', 'p': 2},\n",
       " mean: 0.63597, std: 0.09008, params: {'n_neighbors': 5, 'weights': 'uniform', 'p': 3},\n",
       " mean: 0.63754, std: 0.08921, params: {'n_neighbors': 5, 'weights': 'distance', 'p': 3},\n",
       " mean: 0.52042, std: 0.12732, params: {'n_neighbors': 6, 'weights': 'uniform', 'p': 1},\n",
       " mean: 0.61428, std: 0.09405, params: {'n_neighbors': 6, 'weights': 'distance', 'p': 1},\n",
       " mean: 0.55107, std: 0.11064, params: {'n_neighbors': 6, 'weights': 'uniform', 'p': 2},\n",
       " mean: 0.63367, std: 0.08763, params: {'n_neighbors': 6, 'weights': 'distance', 'p': 2},\n",
       " mean: 0.54237, std: 0.11163, params: {'n_neighbors': 6, 'weights': 'uniform', 'p': 3},\n",
       " mean: 0.61877, std: 0.09845, params: {'n_neighbors': 6, 'weights': 'distance', 'p': 3},\n",
       " mean: 0.59660, std: 0.09442, params: {'n_neighbors': 7, 'weights': 'uniform', 'p': 1},\n",
       " mean: 0.61015, std: 0.09635, params: {'n_neighbors': 7, 'weights': 'distance', 'p': 1},\n",
       " mean: 0.60590, std: 0.11259, params: {'n_neighbors': 7, 'weights': 'uniform', 'p': 2},\n",
       " mean: 0.60590, std: 0.11259, params: {'n_neighbors': 7, 'weights': 'distance', 'p': 2},\n",
       " mean: 0.58997, std: 0.08684, params: {'n_neighbors': 7, 'weights': 'uniform', 'p': 3},\n",
       " mean: 0.58997, std: 0.08684, params: {'n_neighbors': 7, 'weights': 'distance', 'p': 3},\n",
       " mean: 0.50406, std: 0.12032, params: {'n_neighbors': 8, 'weights': 'uniform', 'p': 1},\n",
       " mean: 0.57398, std: 0.11783, params: {'n_neighbors': 8, 'weights': 'distance', 'p': 1},\n",
       " mean: 0.53779, std: 0.11057, params: {'n_neighbors': 8, 'weights': 'uniform', 'p': 2},\n",
       " mean: 0.62484, std: 0.09832, params: {'n_neighbors': 8, 'weights': 'distance', 'p': 2},\n",
       " mean: 0.52365, std: 0.07448, params: {'n_neighbors': 8, 'weights': 'uniform', 'p': 3},\n",
       " mean: 0.59117, std: 0.07694, params: {'n_neighbors': 8, 'weights': 'distance', 'p': 3},\n",
       " mean: 0.57854, std: 0.12239, params: {'n_neighbors': 9, 'weights': 'uniform', 'p': 1},\n",
       " mean: 0.58068, std: 0.12103, params: {'n_neighbors': 9, 'weights': 'distance', 'p': 1},\n",
       " mean: 0.56566, std: 0.09424, params: {'n_neighbors': 9, 'weights': 'uniform', 'p': 2},\n",
       " mean: 0.57899, std: 0.09298, params: {'n_neighbors': 9, 'weights': 'distance', 'p': 2},\n",
       " mean: 0.56259, std: 0.08034, params: {'n_neighbors': 9, 'weights': 'uniform', 'p': 3},\n",
       " mean: 0.57466, std: 0.07917, params: {'n_neighbors': 9, 'weights': 'distance', 'p': 3},\n",
       " mean: 0.50800, std: 0.14407, params: {'n_neighbors': 10, 'weights': 'uniform', 'p': 1},\n",
       " mean: 0.57882, std: 0.11717, params: {'n_neighbors': 10, 'weights': 'distance', 'p': 1},\n",
       " mean: 0.51625, std: 0.11616, params: {'n_neighbors': 10, 'weights': 'uniform', 'p': 2},\n",
       " mean: 0.59041, std: 0.09296, params: {'n_neighbors': 10, 'weights': 'distance', 'p': 2},\n",
       " mean: 0.51358, std: 0.11447, params: {'n_neighbors': 10, 'weights': 'uniform', 'p': 3},\n",
       " mean: 0.58538, std: 0.09304, params: {'n_neighbors': 10, 'weights': 'distance', 'p': 3},\n",
       " mean: 0.55599, std: 0.10741, params: {'n_neighbors': 11, 'weights': 'uniform', 'p': 1},\n",
       " mean: 0.54858, std: 0.10402, params: {'n_neighbors': 11, 'weights': 'distance', 'p': 1},\n",
       " mean: 0.56041, std: 0.12616, params: {'n_neighbors': 11, 'weights': 'uniform', 'p': 2},\n",
       " mean: 0.56364, std: 0.12135, params: {'n_neighbors': 11, 'weights': 'distance', 'p': 2},\n",
       " mean: 0.57106, std: 0.08866, params: {'n_neighbors': 11, 'weights': 'uniform', 'p': 3},\n",
       " mean: 0.56835, std: 0.09153, params: {'n_neighbors': 11, 'weights': 'distance', 'p': 3},\n",
       " mean: 0.51772, std: 0.14306, params: {'n_neighbors': 12, 'weights': 'uniform', 'p': 1},\n",
       " mean: 0.56891, std: 0.11134, params: {'n_neighbors': 12, 'weights': 'distance', 'p': 1},\n",
       " mean: 0.51217, std: 0.10580, params: {'n_neighbors': 12, 'weights': 'uniform', 'p': 2},\n",
       " mean: 0.56162, std: 0.11565, params: {'n_neighbors': 12, 'weights': 'distance', 'p': 2},\n",
       " mean: 0.54693, std: 0.11003, params: {'n_neighbors': 12, 'weights': 'uniform', 'p': 3},\n",
       " mean: 0.58139, std: 0.09115, params: {'n_neighbors': 12, 'weights': 'distance', 'p': 3},\n",
       " mean: 0.55072, std: 0.10463, params: {'n_neighbors': 13, 'weights': 'uniform', 'p': 1},\n",
       " mean: 0.55811, std: 0.09390, params: {'n_neighbors': 13, 'weights': 'distance', 'p': 1},\n",
       " mean: 0.54463, std: 0.10360, params: {'n_neighbors': 13, 'weights': 'uniform', 'p': 2},\n",
       " mean: 0.54434, std: 0.10258, params: {'n_neighbors': 13, 'weights': 'distance', 'p': 2},\n",
       " mean: 0.57719, std: 0.10237, params: {'n_neighbors': 13, 'weights': 'uniform', 'p': 3},\n",
       " mean: 0.57238, std: 0.10512, params: {'n_neighbors': 13, 'weights': 'distance', 'p': 3},\n",
       " mean: 0.49170, std: 0.14944, params: {'n_neighbors': 14, 'weights': 'uniform', 'p': 1},\n",
       " mean: 0.55084, std: 0.11903, params: {'n_neighbors': 14, 'weights': 'distance', 'p': 1},\n",
       " mean: 0.53437, std: 0.11143, params: {'n_neighbors': 14, 'weights': 'uniform', 'p': 2},\n",
       " mean: 0.58439, std: 0.09393, params: {'n_neighbors': 14, 'weights': 'distance', 'p': 2},\n",
       " mean: 0.55724, std: 0.11823, params: {'n_neighbors': 14, 'weights': 'uniform', 'p': 3},\n",
       " mean: 0.58225, std: 0.10076, params: {'n_neighbors': 14, 'weights': 'distance', 'p': 3}]"
      ]
     },
     "execution_count": 285,
     "metadata": {},
     "output_type": "execute_result"
    }
   ],
   "source": [
    "#get a list of all the combo scores\n",
    "\n",
    "clf.grid_scores_"
   ]
  },
  {
   "cell_type": "code",
   "execution_count": 286,
   "metadata": {
    "collapsed": false
   },
   "outputs": [
    {
     "name": "stdout",
     "output_type": "stream",
     "text": [
      "KNeighborsClassifier(algorithm='auto', leaf_size=30, metric='minkowski',\n",
      "           metric_params=None, n_jobs=1, n_neighbors=3, p=2,\n",
      "           weights='uniform')\n"
     ]
    }
   ],
   "source": [
    "best_knn = clf.best_estimator_\n",
    "\n",
    "print best_knn"
   ]
  },
  {
   "cell_type": "code",
   "execution_count": 287,
   "metadata": {
    "collapsed": false
   },
   "outputs": [
    {
     "data": {
      "text/plain": [
       "(array([ 25,  81, 137, 193, 250]),\n",
       " array([[ 0.8       ,  0.54545455,  1.        ,  0.61538462,  0.875     ,\n",
       "          0.54545455,  0.83333333,  0.5       ,  0.9       ,  0.75      ],\n",
       "        [ 0.81632653,  0.68571429,  0.81632653,  0.875     ,  0.63829787,\n",
       "          0.53333333,  0.84057971,  0.73913043,  0.75555556,  0.76923077],\n",
       "        [ 0.72222222,  0.71428571,  0.80898876,  0.85365854,  0.75609756,\n",
       "          0.71428571,  0.82692308,  0.825     ,  0.8       ,  0.75      ],\n",
       "        [ 0.72      ,  0.74      ,  0.79338843,  0.77586207,  0.75438596,\n",
       "          0.74074074,  0.7751938 ,  0.82352941,  0.75675676,  0.8034188 ],\n",
       "        [ 0.77697842,  0.78145695,  0.77419355,  0.79470199,  0.75      ,\n",
       "          0.81632653,  0.82666667,  0.81333333,  0.74213836,  0.7972973 ]]),\n",
       " array([[ 0.56410256,  0.51851852,  0.        ,  0.42857143,  0.68571429,\n",
       "          0.54545455,  0.59090909,  0.47058824,  0.63414634,  0.58064516],\n",
       "        [ 0.625     ,  0.64516129,  0.4516129 ,  0.45714286,  0.63157895,\n",
       "          0.47058824,  0.64      ,  0.51612903,  0.55172414,  0.57142857],\n",
       "        [ 0.55813953,  0.58064516,  0.51612903,  0.47058824,  0.7027027 ,\n",
       "          0.73170732,  0.73170732,  0.62857143,  0.64285714,  0.47368421],\n",
       "        [ 0.65116279,  0.53333333,  0.4516129 ,  0.52941176,  0.77777778,\n",
       "          0.65      ,  0.69767442,  0.61111111,  0.75      ,  0.55555556],\n",
       "        [ 0.69767442,  0.64705882,  0.51428571,  0.62857143,  0.82051282,\n",
       "          0.66666667,  0.71428571,  0.61111111,  0.8       ,  0.66666667]]))"
      ]
     },
     "execution_count": 287,
     "metadata": {},
     "output_type": "execute_result"
    }
   ],
   "source": [
    "from sklearn.learning_curve import learning_curve\n",
    "title = 'title'\n",
    "learning_curve(best_knn, X_train_std, y_train, cv=cv,scoring='f1')"
   ]
  },
  {
   "cell_type": "code",
   "execution_count": 288,
   "metadata": {
    "collapsed": true
   },
   "outputs": [],
   "source": [
    "#Create a learning curve to help us determine if we are overfitting or underfitting, and how the bias and variance play out here.\n",
    "\n",
    "def plot_learning_curve(estimator, title, X, y, ylim=None, cv=None,\n",
    "                       train_sizes=np.linspace(.2,1.0,10), n_jobs=1):\n",
    "    plt.figure()\n",
    "    plt.title(title)\n",
    "    if ylim is not None:\n",
    "        plt.ylim(*ylim)\n",
    "    \n",
    "    plt.xlabel(\"Number of training examples used\")\n",
    "    plt.ylabel(\"Accuracy\")\n",
    "    train_sizes, train_scores, test_scores = learning_curve(\n",
    "        estimator, X, y, cv=cv, n_jobs=n_jobs, train_sizes=train_sizes)\n",
    "    train_scores_mean = np.mean(train_scores, axis=1)\n",
    "    train_scores_std = np.std(train_scores, axis=1)\n",
    "    test_scores_mean = np.mean(test_scores, axis=1)\n",
    "    test_scores_std = np.std(test_scores, axis=1)\n",
    "    plt.grid()\n",
    "\n",
    "    plt.fill_between(train_sizes, train_scores_mean - train_scores_std,\n",
    "                     train_scores_mean + train_scores_std, alpha=0.1,\n",
    "                     color=\"r\")\n",
    "    plt.fill_between(train_sizes, test_scores_mean - test_scores_std,\n",
    "                     test_scores_mean + test_scores_std, alpha=0.1, color=\"g\")\n",
    "    plt.plot(train_sizes, train_scores_mean, 'o-', color=\"r\",\n",
    "             label=\"Training score\")\n",
    "    plt.plot(train_sizes, test_scores_mean, 'o-', color=\"g\",\n",
    "             label=\"Cross-validation score\")\n",
    "\n",
    "    plt.legend(loc=\"best\")\n",
    "    return plt"
   ]
  },
  {
   "cell_type": "code",
   "execution_count": 289,
   "metadata": {
    "collapsed": false
   },
   "outputs": [
    {
     "data": {
      "image/png": "[encoded data removed]",
      "text/plain": [
       "<matplotlib.figure.Figure at 0xdcb1da0>"
      ]
     },
     "metadata": {},
     "output_type": "display_data"
    }
   ],
   "source": [
    "plot_learning_curve(best_knn, 'Learning Curve for kNN', X_train_std, y_train, cv=cv);"
   ]
  },
  {
   "cell_type": "markdown",
   "metadata": {},
   "source": [
    "The kNN model produces high bias-low vairiance learning curve, which susggests the model is 'underfitting'. \n",
    "\n",
    "If the algorithm shows high bias, following steps might be helpful to reduce bias:\n",
    "\n",
    "- Add more features\n",
    "- Use a more sophisticated model\n",
    "- Use fewer samples\n",
    "- Decrease regularization\n",
    "\n",
    "The sample size (observations vs number of features) of testing data looks fine to me. I don't see the need to reduce sample size. I would think about do some feature engineering since as previously observed, there are certain features pairs present higher corrrelations. "
   ]
  },
  {
   "cell_type": "code",
   "execution_count": 340,
   "metadata": {
    "collapsed": false
   },
   "outputs": [
    {
     "data": {
      "text/plain": [
       "array([ 0.75      ,  0.66666667,  0.66666667,  0.66666667,  0.25      ,\n",
       "        0.5       ,  0.66666667,  0.88888889,  0.18181818,  0.66666667,\n",
       "        0.8       ,  0.66666667,  0.72727273,  0.8       ,  0.44444444,\n",
       "        0.75      ,  0.66666667,  0.5       ,  0.8       ,  0.66666667])"
      ]
     },
     "execution_count": 340,
     "metadata": {},
     "output_type": "execute_result"
    }
   ],
   "source": [
    "knn_score=cross_val_score(best_knn,X_train_std, y_train, cv=20, scoring='f1')\n",
    "\n",
    "knn_score"
   ]
  },
  {
   "cell_type": "code",
   "execution_count": 341,
   "metadata": {
    "collapsed": false
   },
   "outputs": [
    {
     "data": {
      "text/plain": [
       "0.63628787878787874"
      ]
     },
     "execution_count": 341,
     "metadata": {},
     "output_type": "execute_result"
    }
   ],
   "source": [
    "knn_score.mean()"
   ]
  },
  {
   "cell_type": "code",
   "execution_count": 342,
   "metadata": {
    "collapsed": false
   },
   "outputs": [
    {
     "name": "stdout",
     "output_type": "stream",
     "text": [
      "The score for knn model is 0.636287878788, compared to our benchmark score of 0.479513888889.\n"
     ]
    }
   ],
   "source": [
    "print 'The score for knn model is {}, compared to our benchmark score of {}.'.format(knn_score.mean(),benchmark2.mean())"
   ]
  },
  {
   "cell_type": "markdown",
   "metadata": {},
   "source": [
    "kNN increases the score by only a slight amount."
   ]
  },
  {
   "cell_type": "code",
   "execution_count": 293,
   "metadata": {
    "collapsed": false
   },
   "outputs": [
    {
     "name": "stdout",
     "output_type": "stream",
     "text": [
      "1000 loops, best of 3: 1.45 ms per loop\n"
     ]
    }
   ],
   "source": [
    "#Too see how much time it takes to run the best knn model.\n",
    "\n",
    "%timeit best_knn.predict(X_test_std)"
   ]
  },
  {
   "cell_type": "code",
   "execution_count": 294,
   "metadata": {
    "collapsed": false
   },
   "outputs": [
    {
     "data": {
      "text/plain": [
       "0.64556962025316456"
      ]
     },
     "execution_count": 294,
     "metadata": {},
     "output_type": "execute_result"
    }
   ],
   "source": [
    "#To see how accurate the best knn model can achieve. \n",
    "#Comparing the prediction with the result('class' column) in testing data. \n",
    "\n",
    "knn_accu = best_knn.score(X_test_std,y_test)\n",
    "\n",
    "knn_accu"
   ]
  },
  {
   "cell_type": "code",
   "execution_count": 295,
   "metadata": {
    "collapsed": false
   },
   "outputs": [
    {
     "name": "stdout",
     "output_type": "stream",
     "text": [
      "The best_knn model achieves 64.56% accuracy.\n"
     ]
    }
   ],
   "source": [
    "print \"The best_knn model achieves %.2f%% accuracy.\" %(knn_accu*100)\n"
   ]
  },
  {
   "cell_type": "markdown",
   "metadata": {},
   "source": [
    "Comment on kNN model:\n",
    "    Based on the learning curve implicaiton, the score of the algor, and accuracy, kNN doesn't seem to be a well-fit model for this dataset. We're going to test on some other algorithms before saying kNN isn't good enough.\n",
    "    "
   ]
  },
  {
   "cell_type": "markdown",
   "metadata": {},
   "source": [
    "**What's the best performance you can get with Naive Bayes? Is NB a good choice for this dataset?**"
   ]
  },
  {
   "cell_type": "markdown",
   "metadata": {},
   "source": [
    "A key assumption underlying Naive Bayes model is, the features are conditionally independent.From the previously run feature correlation matrix table, this is obviously not true. So I'm not expecting a good performence out of Naive Bayes model and don't think it will be a good choice for this dataset.\n",
    "\n",
    "But let's look into details."
   ]
  },
  {
   "cell_type": "markdown",
   "metadata": {},
   "source": [
    "Three major types of Naive Bayes:\n",
    "    - Multinomial: assumes features are counts\n",
    "    - Bernoulli (binomial): assumes features are 0/1 indicating presence of feature\n",
    "    - Gaussian (normal): assumes features are normally-distributed\n",
    "\n",
    "        \n",
    "In this case, we use Gaussian Naive Bayes as we assume feaures are normally distributed."
   ]
  },
  {
   "cell_type": "code",
   "execution_count": 296,
   "metadata": {
    "collapsed": false
   },
   "outputs": [
    {
     "data": {
      "text/plain": [
       "GaussianNB()"
      ]
     },
     "execution_count": 296,
     "metadata": {},
     "output_type": "execute_result"
    }
   ],
   "source": [
    "from sklearn.naive_bayes import GaussianNB\n",
    "\n",
    "gnb = GaussianNB()\n",
    "\n",
    "gnb.fit(X_train_std, y_train)"
   ]
  },
  {
   "cell_type": "code",
   "execution_count": 297,
   "metadata": {
    "collapsed": false
   },
   "outputs": [
    {
     "data": {
      "text/plain": [
       "<module 'matplotlib.pyplot' from 'C:\\Users\\Wenxiao\\Anaconda2\\lib\\site-packages\\matplotlib\\pyplot.pyc'>"
      ]
     },
     "execution_count": 297,
     "metadata": {},
     "output_type": "execute_result"
    },
    {
     "data": {
      "image/png": "[encoded data removed]",
      "text/plain": [
       "<matplotlib.figure.Figure at 0x21eb6f28>"
      ]
     },
     "metadata": {},
     "output_type": "display_data"
    }
   ],
   "source": [
    "#Take a peek at the learning curve\n",
    "\n",
    "plot_learning_curve(gnb, 'Learning Curve for Gaussian Naive Bayes', X_train_std, y_train, cv=cv)"
   ]
  },
  {
   "cell_type": "markdown",
   "metadata": {},
   "source": [
    "The learning curve indicates high bias and high variance. "
   ]
  },
  {
   "cell_type": "code",
   "execution_count": 298,
   "metadata": {
    "collapsed": false
   },
   "outputs": [
    {
     "name": "stdout",
     "output_type": "stream",
     "text": [
      "The slowest run took 4.40 times longer than the fastest. This could mean that an intermediate result is being cached \n",
      "10000 loops, best of 3: 119 µs per loop\n"
     ]
    }
   ],
   "source": [
    "gnb_pred = gnb.predict(X_test_std)\n",
    "\n",
    "%timeit gnb_pred = gnb.predict(X_test_std)"
   ]
  },
  {
   "cell_type": "code",
   "execution_count": 299,
   "metadata": {
    "collapsed": false
   },
   "outputs": [
    {
     "name": "stdout",
     "output_type": "stream",
     "text": [
      "The Naive Bayes model achieves 64.56% accuracy.\n"
     ]
    }
   ],
   "source": [
    "print \"The Naive Bayes model achieves %.2f%% accuracy.\" %(metrics.accuracy_score(y_test, gnb_pred)*100)"
   ]
  },
  {
   "cell_type": "markdown",
   "metadata": {},
   "source": [
    "Comment:\n",
    "\n",
    "    A little surprising that Naive Bayes model achieve the same accuracy as kNN, given the fact that the application of the model is conceptually flawed. Plus, the time it takes to run is significantly less. \n",
    "    "
   ]
  },
  {
   "cell_type": "markdown",
   "metadata": {
    "collapsed": true
   },
   "source": [
    "**What's the best performance you can get with Logistic Regression? Is LR a good choice for this dataset?**"
   ]
  },
  {
   "cell_type": "markdown",
   "metadata": {},
   "source": [
    "Since I believe all features are potentially relevant to the classification, I'll try Ridge Regression to regularize the algortithm. "
   ]
  },
  {
   "cell_type": "code",
   "execution_count": 300,
   "metadata": {
    "collapsed": false
   },
   "outputs": [
    {
     "data": {
      "text/plain": [
       "LogisticRegression(C=20.0, class_weight=None, dual=False, fit_intercept=True,\n",
       "          intercept_scaling=1, max_iter=100, multi_class='ovr', n_jobs=1,\n",
       "          penalty='l2', random_state=None, solver='liblinear', tol=0.0001,\n",
       "          verbose=0, warm_start=False)"
      ]
     },
     "execution_count": 300,
     "metadata": {},
     "output_type": "execute_result"
    }
   ],
   "source": [
    "from sklearn.linear_model import LogisticRegression\n",
    "lr1 = LogisticRegression(penalty='l2', C=1.0)\n",
    "lr2 = LogisticRegression(penalty='l2', C=20.0)\n",
    "\n",
    "lr1.fit(X_train_std, y_train)\n",
    "lr2.fit(X_train_std, y_train)\n"
   ]
  },
  {
   "cell_type": "code",
   "execution_count": 301,
   "metadata": {
    "collapsed": false
   },
   "outputs": [
    {
     "data": {
      "text/html": [
       "<div>\n",
       "<table border=\"1\" class=\"dataframe\">\n",
       "  <thead>\n",
       "    <tr style=\"text-align: right;\">\n",
       "      <th></th>\n",
       "      <th>0</th>\n",
       "      <th>1</th>\n",
       "    </tr>\n",
       "  </thead>\n",
       "  <tbody>\n",
       "    <tr>\n",
       "      <th>0</th>\n",
       "      <td>preg</td>\n",
       "      <td>0.364685</td>\n",
       "    </tr>\n",
       "    <tr>\n",
       "      <th>1</th>\n",
       "      <td>glc_concen</td>\n",
       "      <td>1.016164</td>\n",
       "    </tr>\n",
       "    <tr>\n",
       "      <th>2</th>\n",
       "      <td>blood_pres</td>\n",
       "      <td>0.063498</td>\n",
       "    </tr>\n",
       "    <tr>\n",
       "      <th>3</th>\n",
       "      <td>skin</td>\n",
       "      <td>0.160673</td>\n",
       "    </tr>\n",
       "    <tr>\n",
       "      <th>4</th>\n",
       "      <td>insulin</td>\n",
       "      <td>0.007358</td>\n",
       "    </tr>\n",
       "    <tr>\n",
       "      <th>5</th>\n",
       "      <td>mass</td>\n",
       "      <td>0.369996</td>\n",
       "    </tr>\n",
       "    <tr>\n",
       "      <th>6</th>\n",
       "      <td>pedigree</td>\n",
       "      <td>0.345837</td>\n",
       "    </tr>\n",
       "    <tr>\n",
       "      <th>7</th>\n",
       "      <td>age</td>\n",
       "      <td>0.338605</td>\n",
       "    </tr>\n",
       "  </tbody>\n",
       "</table>\n",
       "</div>"
      ],
      "text/plain": [
       "            0         1\n",
       "0        preg  0.364685\n",
       "1  glc_concen  1.016164\n",
       "2  blood_pres  0.063498\n",
       "3        skin  0.160673\n",
       "4     insulin  0.007358\n",
       "5        mass  0.369996\n",
       "6    pedigree  0.345837\n",
       "7         age  0.338605"
      ]
     },
     "execution_count": 301,
     "metadata": {},
     "output_type": "execute_result"
    }
   ],
   "source": [
    "#Check coefficients among variables\n",
    "\n",
    "colnames=['preg','glc_concen','blood_pres','skin','insulin','mass','pedigree','age','class']\n",
    "\n",
    "pd.DataFrame(zip(colnames, lr1.coef_[0]))\n"
   ]
  },
  {
   "cell_type": "markdown",
   "metadata": {},
   "source": [
    "From the coeficient table above, it looks like 'blood_pres' and 'insulin' have little contribution to the diatebets classification model."
   ]
  },
  {
   "cell_type": "code",
   "execution_count": 302,
   "metadata": {
    "collapsed": false
   },
   "outputs": [
    {
     "data": {
      "image/png": "[encoded data removed]",
      "text/plain": [
       "<matplotlib.figure.Figure at 0x20c1a7b8>"
      ]
     },
     "metadata": {},
     "output_type": "display_data"
    },
    {
     "data": {
      "image/png": "[encoded data removed]",
      "text/plain": [
       "<matplotlib.figure.Figure at 0x20c1aa20>"
      ]
     },
     "metadata": {},
     "output_type": "display_data"
    }
   ],
   "source": [
    "plot_learning_curve(lr1, 'Learning Curve for Logistic Regression 1', X_train_std, y_train, cv=cv);\n",
    "plot_learning_curve(lr2, 'Learning Curve for Logistic Regression 2', X_train_std, y_train, cv=cv);"
   ]
  },
  {
   "cell_type": "markdown",
   "metadata": {},
   "source": [
    "The learning curve of Logistic Regression 1 exhibits high bias and moderate degree of variance. \n",
    "\n",
    "Out of the four common steps to reduce bias, 'decrease regularization' seems to be most viable for this case. So I increased the value of parameter 'c' in Logistic Regression classifier to 20.0, which means less regularization. \n",
    "\n",
    "From the second learning curve, we can see both the variance and bias have been reduced."
   ]
  },
  {
   "cell_type": "code",
   "execution_count": 303,
   "metadata": {
    "collapsed": true
   },
   "outputs": [],
   "source": [
    "#Making predictions based on X_test_std \n",
    "\n",
    "lr1_pred = lr1.predict(X_test_std)\n",
    "lr2_pred = lr2.predict(X_test_std)"
   ]
  },
  {
   "cell_type": "code",
   "execution_count": 304,
   "metadata": {
    "collapsed": false
   },
   "outputs": [
    {
     "name": "stdout",
     "output_type": "stream",
     "text": [
      "10000 loops, best of 3: 47.8 µs per loop\n",
      "10000 loops, best of 3: 45.9 µs per loop\n"
     ]
    }
   ],
   "source": [
    "#To check how much take it takes to run Logistic Regression model\n",
    "\n",
    "%timeit lr1.predict(X_test_std)\n",
    "%timeit lr2.predict(X_test_std)\n"
   ]
  },
  {
   "cell_type": "code",
   "execution_count": 305,
   "metadata": {
    "collapsed": false
   },
   "outputs": [
    {
     "name": "stdout",
     "output_type": "stream",
     "text": [
      "0.746835443038\n",
      "0.746835443038\n"
     ]
    }
   ],
   "source": [
    "# calculate classification accuracy\n",
    "\n",
    "from sklearn import metrics\n",
    "print metrics.accuracy_score(y_test, lr1_pred)\n",
    "print metrics.accuracy_score(y_test, lr2_pred)"
   ]
  },
  {
   "cell_type": "markdown",
   "metadata": {},
   "source": [
    "By comparing the running time and accuracy between two logistic regression models using different 'c' values, we observe no material diffierence as of performance, except the tuning of 'c' decrease variance and bias."
   ]
  },
  {
   "cell_type": "code",
   "execution_count": 373,
   "metadata": {
    "collapsed": false
   },
   "outputs": [
    {
     "name": "stdout",
     "output_type": "stream",
     "text": [
      "The Logistic Regression model achieves 74.68% accuracy.\n"
     ]
    }
   ],
   "source": [
    "print \"The Logistic Regression model achieves %.2f%% accuracy.\" %(metrics.accuracy_score(y_test, lr2_pred)*100)"
   ]
  },
  {
   "cell_type": "markdown",
   "metadata": {},
   "source": [
    "**What's the best performance you can get with Random Forest? Is RF a good choice for this dataset?**"
   ]
  },
  {
   "cell_type": "code",
   "execution_count": 327,
   "metadata": {
    "collapsed": false
   },
   "outputs": [
    {
     "data": {
      "text/plain": [
       "GridSearchCV(cv=ShuffleSplit(313, n_iter=10, test_size=0.2, random_state=0),\n",
       "       error_score='raise',\n",
       "       estimator=RandomForestClassifier(bootstrap=True, class_weight=None, criterion='gini',\n",
       "            max_depth=None, max_features='auto', max_leaf_nodes=None,\n",
       "            min_samples_leaf=1, min_samples_split=2,\n",
       "            min_weight_fraction_leaf=0.0, n_estimators=10, n_jobs=1,\n",
       "            oob_score=False, random_state=None, verbose=0,\n",
       "            warm_start=False),\n",
       "       fit_params={}, iid=True, n_jobs=1,\n",
       "       param_grid={'n_estimators': [1, 51, 101, 151]},\n",
       "       pre_dispatch='2*n_jobs', refit=True, scoring=None, verbose=0)"
      ]
     },
     "execution_count": 327,
     "metadata": {},
     "output_type": "execute_result"
    }
   ],
   "source": [
    "from sklearn.ensemble import RandomForestClassifier\n",
    "from sklearn.grid_search import GridSearchCV\n",
    "\n",
    "rf = RandomForestClassifier()\n",
    "\n",
    "#Use GridSearch to explore the best number of trees in the forest\n",
    "\n",
    "parameters2 = {'n_estimators': range(1, 200, 50)}\n",
    "\n",
    "clf2 = GridSearchCV(rf, parameters2, cv=cv)\n",
    "\n",
    "clf2.fit(X_train_std, y_train)"
   ]
  },
  {
   "cell_type": "code",
   "execution_count": 328,
   "metadata": {
    "collapsed": false
   },
   "outputs": [
    {
     "data": {
      "text/plain": [
       "{'n_estimators': 151}"
      ]
     },
     "execution_count": 328,
     "metadata": {},
     "output_type": "execute_result"
    }
   ],
   "source": [
    "clf2.best_params_\n"
   ]
  },
  {
   "cell_type": "code",
   "execution_count": 329,
   "metadata": {
    "collapsed": false
   },
   "outputs": [
    {
     "name": "stdout",
     "output_type": "stream",
     "text": [
      "RandomForestClassifier(bootstrap=True, class_weight=None, criterion='gini',\n",
      "            max_depth=None, max_features='auto', max_leaf_nodes=None,\n",
      "            min_samples_leaf=1, min_samples_split=2,\n",
      "            min_weight_fraction_leaf=0.0, n_estimators=151, n_jobs=1,\n",
      "            oob_score=False, random_state=None, verbose=0,\n",
      "            warm_start=False)\n"
     ]
    }
   ],
   "source": [
    "best_rf = clf2.best_estimator_\n",
    "\n",
    "print best_rf"
   ]
  },
  {
   "cell_type": "code",
   "execution_count": 331,
   "metadata": {
    "collapsed": false
   },
   "outputs": [
    {
     "data": {
      "image/png": "[encoded data removed]",
      "text/plain": [
       "<matplotlib.figure.Figure at 0x2062eb70>"
      ]
     },
     "metadata": {},
     "output_type": "display_data"
    }
   ],
   "source": [
    "plot_learning_curve(best_rf, 'Learning Curve for Random Forest', X_train_std, y_train, cv=cv);"
   ]
  },
  {
   "cell_type": "markdown",
   "metadata": {},
   "source": [
    "The learning curve suggests high bias. Maybe the Random Forest model isn't sophisticated enough."
   ]
  },
  {
   "cell_type": "code",
   "execution_count": 334,
   "metadata": {
    "collapsed": false
   },
   "outputs": [
    {
     "name": "stdout",
     "output_type": "stream",
     "text": [
      "100 loops, best of 3: 10.8 ms per loop\n"
     ]
    }
   ],
   "source": [
    "#Predict on X_test_std\n",
    "\n",
    "rf_pred = best_rf.predict(X_test_std)\n",
    "\n",
    "%timeit best_rf.predict(X_test_std)"
   ]
  },
  {
   "cell_type": "code",
   "execution_count": 347,
   "metadata": {
    "collapsed": false
   },
   "outputs": [
    {
     "data": {
      "text/plain": [
       "0.62738816738816738"
      ]
     },
     "execution_count": 347,
     "metadata": {},
     "output_type": "execute_result"
    }
   ],
   "source": [
    "rf_score=cross_val_score(best_rf,X_train_std, y_train, cv=20, scoring='f1')\n",
    "\n",
    "rf_score.mean()"
   ]
  },
  {
   "cell_type": "code",
   "execution_count": 348,
   "metadata": {
    "collapsed": false
   },
   "outputs": [
    {
     "name": "stdout",
     "output_type": "stream",
     "text": [
      "0.73417721519\n"
     ]
    }
   ],
   "source": [
    "# calculate accuracy\n",
    "\n",
    "print metrics.accuracy_score(y_test, rf_pred)"
   ]
  },
  {
   "cell_type": "code",
   "execution_count": 354,
   "metadata": {
    "collapsed": false
   },
   "outputs": [
    {
     "data": {
      "text/html": [
       "<div>\n",
       "<table border=\"1\" class=\"dataframe\">\n",
       "  <thead>\n",
       "    <tr style=\"text-align: right;\">\n",
       "      <th></th>\n",
       "      <th>Features</th>\n",
       "      <th>Importance Score</th>\n",
       "    </tr>\n",
       "  </thead>\n",
       "  <tbody>\n",
       "    <tr>\n",
       "      <th>1</th>\n",
       "      <td>glc_concen</td>\n",
       "      <td>0.226633</td>\n",
       "    </tr>\n",
       "    <tr>\n",
       "      <th>4</th>\n",
       "      <td>insulin</td>\n",
       "      <td>0.156354</td>\n",
       "    </tr>\n",
       "    <tr>\n",
       "      <th>7</th>\n",
       "      <td>age</td>\n",
       "      <td>0.151703</td>\n",
       "    </tr>\n",
       "    <tr>\n",
       "      <th>6</th>\n",
       "      <td>pedigree</td>\n",
       "      <td>0.111840</td>\n",
       "    </tr>\n",
       "    <tr>\n",
       "      <th>5</th>\n",
       "      <td>mass</td>\n",
       "      <td>0.106075</td>\n",
       "    </tr>\n",
       "    <tr>\n",
       "      <th>0</th>\n",
       "      <td>preg</td>\n",
       "      <td>0.093126</td>\n",
       "    </tr>\n",
       "    <tr>\n",
       "      <th>3</th>\n",
       "      <td>skin</td>\n",
       "      <td>0.084863</td>\n",
       "    </tr>\n",
       "    <tr>\n",
       "      <th>2</th>\n",
       "      <td>blood_pres</td>\n",
       "      <td>0.069406</td>\n",
       "    </tr>\n",
       "  </tbody>\n",
       "</table>\n",
       "</div>"
      ],
      "text/plain": [
       "     Features  Importance Score\n",
       "1  glc_concen          0.226633\n",
       "4     insulin          0.156354\n",
       "7         age          0.151703\n",
       "6    pedigree          0.111840\n",
       "5        mass          0.106075\n",
       "0        preg          0.093126\n",
       "3        skin          0.084863\n",
       "2  blood_pres          0.069406"
      ]
     },
     "execution_count": 354,
     "metadata": {},
     "output_type": "execute_result"
    }
   ],
   "source": [
    "#Extracting importance of features\n",
    "\n",
    "features = pima_X.columns\n",
    "feature_importances = best_rf.feature_importances_\n",
    "\n",
    "features_df = pd.DataFrame({'Features': features, 'Importance Score': feature_importances})\n",
    "features_df.sort_values('Importance Score', inplace=True, ascending=False)\n",
    "\n",
    "features_df"
   ]
  },
  {
   "cell_type": "markdown",
   "metadata": {},
   "source": [
    "I am a little confused here. From the Logistic Regression coefficent output, feature 'insulin' is an insignficant model contributor. But here it becomes an important feature. Why?"
   ]
  },
  {
   "cell_type": "markdown",
   "metadata": {},
   "source": [
    "**If you could only choose one, which classifer from the above that you already ran is best? How do you define best? (hint: could be prediction accuracy, running time, interpretability, etc)**"
   ]
  },
  {
   "cell_type": "code",
   "execution_count": 378,
   "metadata": {
    "collapsed": false
   },
   "outputs": [
    {
     "name": "stdout",
     "output_type": "stream",
     "text": [
      "Our benchmark score is: 0.479513888889\n",
      " \n",
      "In terms of accuracy:\n",
      "kNN model achieves a score of 64.5570%\n",
      "Naive Bayes model achieves a score of 64.5570%\n",
      "Logistic Regression model achieves a score of 74.6835%\n",
      "Random Forest model achieves a score of 73.4177%\n",
      " \n",
      "Both Logistic Regression model and Random Forest model work fine.\n"
     ]
    }
   ],
   "source": [
    "print \"Our benchmark score is: {}\".format(benchmark2.mean())\n",
    "print \" \"\n",
    "print \"In terms of accuracy:\"\n",
    "print \"kNN model achieves a score of %.4f%%\" %(knn_accu*100)\n",
    "print \"Naive Bayes model achieves a score of %.4f%%\" %(metrics.accuracy_score(y_test, gnb_pred)*100)\n",
    "print \"Logistic Regression model achieves a score of %.4f%%\" %(metrics.accuracy_score(y_test, lr2_pred)*100)\n",
    "print \"Random Forest model achieves a score of %.4f%%\" %(metrics.accuracy_score(y_test, rf_pred)*100)\n",
    "\n",
    "print \" \"\n",
    "print \"Both Logistic Regression model and Random Forest model work fine.\""
   ]
  },
  {
   "cell_type": "code",
   "execution_count": 379,
   "metadata": {
    "collapsed": false
   },
   "outputs": [
    {
     "name": "stdout",
     "output_type": "stream",
     "text": [
      "In terms of time it takes to run:\n",
      " \n",
      "kNN model takes 1.45 ms per loop to run.\n",
      "Naive Bayes model takes 119 µs per loop to run.\n",
      "Logistic Regression model takes 45.9 µs per loop to run.\n",
      "Random Forest model takes 10.8 ms per loop to run.\n",
      " \n",
      "Logistic Regression model and Naive Bayes model beat others.\n"
     ]
    }
   ],
   "source": [
    "print \"In terms of time it takes to run:\"\n",
    "print \" \"\n",
    "print \"kNN model takes 1.45 ms per loop to run.\" \n",
    "print \"Naive Bayes model takes 119 µs per loop to run.\"\n",
    "print \"Logistic Regression model takes 45.9 µs per loop to run.\"\n",
    "print \"Random Forest model takes 10.8 ms per loop to run.\"\n",
    "\n",
    "print \" \"\n",
    "print \"Logistic Regression model and Naive Bayes model beat others.\""
   ]
  },
  {
   "cell_type": "markdown",
   "metadata": {},
   "source": [
    "In terms of interpretability, I would say kNN model will be easier to understand if to explain to someone who doesn't have a tech background. But in this case, kNN doesn't perform as well as other models. As we observed high bias with Random Forest, I would not recommend using Random Forest model for this dataset. Combining all performance factos, I would say, Logistic Regression model works best among all. "
   ]
  }
 ],
 "metadata": {
  "kernelspec": {
   "display_name": "Python 2",
   "language": "python",
   "name": "python2"
  },
  "language_info": {
   "codemirror_mode": {
    "name": "ipython",
    "version": 2
   },
   "file_extension": ".py",
   "mimetype": "text/x-python",
   "name": "python",
   "nbconvert_exporter": "python",
   "pygments_lexer": "ipython2",
   "version": "2.7.11"
  }
 },
 "nbformat": 4,
 "nbformat_minor": 0
}
